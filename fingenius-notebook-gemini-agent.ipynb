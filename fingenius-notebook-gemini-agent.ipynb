{
 "cells": [
  {
   "cell_type": "markdown",
   "id": "da3fc60e",
   "metadata": {
    "id": "l25SliSDmwKo",
    "papermill": {
     "duration": 0.007639,
     "end_time": "2025-04-18T21:03:52.682216",
     "exception": false,
     "start_time": "2025-04-18T21:03:52.674577",
     "status": "completed"
    },
    "tags": []
   },
   "source": [
    "# FinGenius: AI Personal Finance Advisor\n",
    "\n",
    "## Introduction\n",
    "\n",
    "Welcome to FinGenius, an AI-powered personal finance advisor that helps users analyze their spending patterns, provides personalized financial recommendations, and answers finance-related questions with reliable sources.\n",
    "\n",
    "This project is my submission for the 5-Day Gen AI Intensive Course Capstone Project. As an IITM BS Data Science student, I've applied the knowledge gained from the course to create a practical solution that demonstrates multiple Gen AI capabilities.\n",
    "\n",
    "### Problem Statement\n",
    "\n",
    "Many individuals struggle with managing their finances effectively. They need help with:\n",
    "- Understanding their spending patterns\n",
    "- Getting personalized financial advice\n",
    "- Learning about financial concepts and best practices\n",
    "- Creating and maintaining budgets\n",
    "- Planning for financial goals\n",
    "\n",
    "FinGenius addresses these needs by providing an intelligent assistant that can analyze transaction data, offer personalized recommendations, and answer finance-related questions in a conversational manner.\n",
    "\n",
    "### Gen AI Capabilities Showcased\n",
    "\n",
    "This project demonstrates the following Gen AI capabilities:\n",
    "\n",
    "1. **Structured Output/JSON Mode**: For transaction categorization, budget breakdown, and financial health reports\n",
    "2. **RAG (Retrieval Augmented Generation)**: For accessing financial knowledge and providing evidence-based recommendations\n",
    "3. **Embeddings**: For semantic understanding of transactions and finding spending patterns\n",
    "4. **Function Calling**: For financial calculations and data processing\n",
    "\n"
   ]
  },
  {
   "cell_type": "markdown",
   "id": "32033b95",
   "metadata": {
    "id": "nlIdTU3WmwKs",
    "papermill": {
     "duration": 0.006131,
     "end_time": "2025-04-18T21:03:52.695050",
     "exception": false,
     "start_time": "2025-04-18T21:03:52.688919",
     "status": "completed"
    },
    "tags": []
   },
   "source": [
    "## Setup\n",
    "\n",
    "First, let's install the necessary libraries for our project."
   ]
  },
  {
   "cell_type": "code",
   "execution_count": 1,
   "id": "a4be60c3",
   "metadata": {
    "execution": {
     "iopub.execute_input": "2025-04-18T21:03:52.710379Z",
     "iopub.status.busy": "2025-04-18T21:03:52.710086Z",
     "iopub.status.idle": "2025-04-18T21:04:39.689526Z",
     "shell.execute_reply": "2025-04-18T21:04:39.687710Z"
    },
    "id": "crz-krZAmwKt",
    "papermill": {
     "duration": 46.989474,
     "end_time": "2025-04-18T21:04:39.692133",
     "exception": false,
     "start_time": "2025-04-18T21:03:52.702659",
     "status": "completed"
    },
    "tags": []
   },
   "outputs": [
    {
     "name": "stdout",
     "output_type": "stream",
     "text": [
      "\u001b[2K     \u001b[90m━━━━━━━━━━━━━━━━━━━━━━━━━━━━━━━━━━━━━━━━\u001b[0m \u001b[32m67.3/67.3 kB\u001b[0m \u001b[31m3.8 MB/s\u001b[0m eta \u001b[36m0:00:00\u001b[0m\r\n",
      "\u001b[?25h  Installing build dependencies ... \u001b[?25l\u001b[?25hdone\r\n",
      "  Getting requirements to build wheel ... \u001b[?25l\u001b[?25hdone\r\n",
      "  Preparing metadata (pyproject.toml) ... \u001b[?25l\u001b[?25hdone\r\n",
      "\u001b[2K     \u001b[90m━━━━━━━━━━━━━━━━━━━━━━━━━━━━━━━━━━━━━━━━\u001b[0m \u001b[32m43.5/43.5 kB\u001b[0m \u001b[31m2.1 MB/s\u001b[0m eta \u001b[36m0:00:00\u001b[0m\r\n",
      "\u001b[2K   \u001b[90m━━━━━━━━━━━━━━━━━━━━━━━━━━━━━━━━━━━━━━━━\u001b[0m \u001b[32m144.7/144.7 kB\u001b[0m \u001b[31m7.5 MB/s\u001b[0m eta \u001b[36m0:00:00\u001b[0m\r\n",
      "\u001b[2K   \u001b[90m━━━━━━━━━━━━━━━━━━━━━━━━━━━━━━━━━━━━━━━━\u001b[0m \u001b[32m611.1/611.1 kB\u001b[0m \u001b[31m27.5 MB/s\u001b[0m eta \u001b[36m0:00:00\u001b[0m\r\n",
      "\u001b[2K   \u001b[90m━━━━━━━━━━━━━━━━━━━━━━━━━━━━━━━━━━━━━━━━\u001b[0m \u001b[32m138.0/138.0 kB\u001b[0m \u001b[31m7.2 MB/s\u001b[0m eta \u001b[36m0:00:00\u001b[0m\r\n",
      "\u001b[2K   \u001b[90m━━━━━━━━━━━━━━━━━━━━━━━━━━━━━━━━━━━━━━━━\u001b[0m \u001b[32m42.0/42.0 kB\u001b[0m \u001b[31m2.2 MB/s\u001b[0m eta \u001b[36m0:00:00\u001b[0m\r\n",
      "\u001b[2K   \u001b[90m━━━━━━━━━━━━━━━━━━━━━━━━━━━━━━━━━━━━━━━━\u001b[0m \u001b[32m2.4/2.4 MB\u001b[0m \u001b[31m64.8 MB/s\u001b[0m eta \u001b[36m0:00:00\u001b[0m\r\n",
      "\u001b[2K   \u001b[90m━━━━━━━━━━━━━━━━━━━━━━━━━━━━━━━━━━━━━━━━\u001b[0m \u001b[32m100.9/100.9 kB\u001b[0m \u001b[31m5.8 MB/s\u001b[0m eta \u001b[36m0:00:00\u001b[0m\r\n",
      "\u001b[2K   \u001b[90m━━━━━━━━━━━━━━━━━━━━━━━━━━━━━━━━━━━━━━━━\u001b[0m \u001b[32m284.2/284.2 kB\u001b[0m \u001b[31m18.5 MB/s\u001b[0m eta \u001b[36m0:00:00\u001b[0m\r\n",
      "\u001b[2K   \u001b[90m━━━━━━━━━━━━━━━━━━━━━━━━━━━━━━━━━━━━━━━━\u001b[0m \u001b[32m95.2/95.2 kB\u001b[0m \u001b[31m6.7 MB/s\u001b[0m eta \u001b[36m0:00:00\u001b[0m\r\n",
      "\u001b[2K   \u001b[90m━━━━━━━━━━━━━━━━━━━━━━━━━━━━━━━━━━━━━━━━\u001b[0m \u001b[32m1.4/1.4 MB\u001b[0m \u001b[31m46.6 MB/s\u001b[0m eta \u001b[36m0:00:00\u001b[0m\r\n",
      "\u001b[2K   \u001b[90m━━━━━━━━━━━━━━━━━━━━━━━━━━━━━━━━━━━━━━━━\u001b[0m \u001b[32m2.0/2.0 MB\u001b[0m \u001b[31m54.9 MB/s\u001b[0m eta \u001b[36m0:00:00\u001b[0m\r\n",
      "\u001b[2K   \u001b[90m━━━━━━━━━━━━━━━━━━━━━━━━━━━━━━━━━━━━━━━━\u001b[0m \u001b[32m433.9/433.9 kB\u001b[0m \u001b[31m19.4 MB/s\u001b[0m eta \u001b[36m0:00:00\u001b[0m\r\n",
      "\u001b[2K   \u001b[90m━━━━━━━━━━━━━━━━━━━━━━━━━━━━━━━━━━━━━━━━\u001b[0m \u001b[32m42.0/42.0 kB\u001b[0m \u001b[31m2.2 MB/s\u001b[0m eta \u001b[36m0:00:00\u001b[0m\r\n",
      "\u001b[2K   \u001b[90m━━━━━━━━━━━━━━━━━━━━━━━━━━━━━━━━━━━━━━━━\u001b[0m \u001b[32m47.2/47.2 kB\u001b[0m \u001b[31m2.6 MB/s\u001b[0m eta \u001b[36m0:00:00\u001b[0m\r\n",
      "\u001b[2K   \u001b[90m━━━━━━━━━━━━━━━━━━━━━━━━━━━━━━━━━━━━━━━━\u001b[0m \u001b[32m101.6/101.6 kB\u001b[0m \u001b[31m5.6 MB/s\u001b[0m eta \u001b[36m0:00:00\u001b[0m\r\n",
      "\u001b[2K   \u001b[90m━━━━━━━━━━━━━━━━━━━━━━━━━━━━━━━━━━━━━━━━\u001b[0m \u001b[32m16.0/16.0 MB\u001b[0m \u001b[31m85.5 MB/s\u001b[0m eta \u001b[36m0:00:00\u001b[0m\r\n",
      "\u001b[2K   \u001b[90m━━━━━━━━━━━━━━━━━━━━━━━━━━━━━━━━━━━━━━━━\u001b[0m \u001b[32m55.9/55.9 kB\u001b[0m \u001b[31m3.5 MB/s\u001b[0m eta \u001b[36m0:00:00\u001b[0m\r\n",
      "\u001b[2K   \u001b[90m━━━━━━━━━━━━━━━━━━━━━━━━━━━━━━━━━━━━━━━━\u001b[0m \u001b[32m188.4/188.4 kB\u001b[0m \u001b[31m10.3 MB/s\u001b[0m eta \u001b[36m0:00:00\u001b[0m\r\n",
      "\u001b[2K   \u001b[90m━━━━━━━━━━━━━━━━━━━━━━━━━━━━━━━━━━━━━━━━\u001b[0m \u001b[32m65.3/65.3 kB\u001b[0m \u001b[31m3.7 MB/s\u001b[0m eta \u001b[36m0:00:00\u001b[0m\r\n",
      "\u001b[2K   \u001b[90m━━━━━━━━━━━━━━━━━━━━━━━━━━━━━━━━━━━━━━━━\u001b[0m \u001b[32m119.0/119.0 kB\u001b[0m \u001b[31m7.1 MB/s\u001b[0m eta \u001b[36m0:00:00\u001b[0m\r\n",
      "\u001b[2K   \u001b[90m━━━━━━━━━━━━━━━━━━━━━━━━━━━━━━━━━━━━━━━━\u001b[0m \u001b[32m89.1/89.1 kB\u001b[0m \u001b[31m5.1 MB/s\u001b[0m eta \u001b[36m0:00:00\u001b[0m\r\n",
      "\u001b[2K   \u001b[90m━━━━━━━━━━━━━━━━━━━━━━━━━━━━━━━━━━━━━━━━\u001b[0m \u001b[32m62.4/62.4 kB\u001b[0m \u001b[31m4.3 MB/s\u001b[0m eta \u001b[36m0:00:00\u001b[0m\r\n",
      "\u001b[2K   \u001b[90m━━━━━━━━━━━━━━━━━━━━━━━━━━━━━━━━━━━━━━━━\u001b[0m \u001b[32m160.1/160.1 kB\u001b[0m \u001b[31m10.2 MB/s\u001b[0m eta \u001b[36m0:00:00\u001b[0m\r\n",
      "\u001b[2K   \u001b[90m━━━━━━━━━━━━━━━━━━━━━━━━━━━━━━━━━━━━━━━━\u001b[0m \u001b[32m459.8/459.8 kB\u001b[0m \u001b[31m23.5 MB/s\u001b[0m eta \u001b[36m0:00:00\u001b[0m\r\n",
      "\u001b[2K   \u001b[90m━━━━━━━━━━━━━━━━━━━━━━━━━━━━━━━━━━━━━━━━\u001b[0m \u001b[32m223.6/223.6 kB\u001b[0m \u001b[31m13.1 MB/s\u001b[0m eta \u001b[36m0:00:00\u001b[0m\r\n",
      "\u001b[2K   \u001b[90m━━━━━━━━━━━━━━━━━━━━━━━━━━━━━━━━━━━━━━━━\u001b[0m \u001b[32m319.7/319.7 kB\u001b[0m \u001b[31m19.6 MB/s\u001b[0m eta \u001b[36m0:00:00\u001b[0m\r\n",
      "\u001b[2K   \u001b[90m━━━━━━━━━━━━━━━━━━━━━━━━━━━━━━━━━━━━━━━━\u001b[0m \u001b[32m72.0/72.0 kB\u001b[0m \u001b[31m4.6 MB/s\u001b[0m eta \u001b[36m0:00:00\u001b[0m\r\n",
      "\u001b[2K   \u001b[90m━━━━━━━━━━━━━━━━━━━━━━━━━━━━━━━━━━━━━━━━\u001b[0m \u001b[32m4.0/4.0 MB\u001b[0m \u001b[31m77.0 MB/s\u001b[0m eta \u001b[36m0:00:00\u001b[0m\r\n",
      "\u001b[2K   \u001b[90m━━━━━━━━━━━━━━━━━━━━━━━━━━━━━━━━━━━━━━━━\u001b[0m \u001b[32m454.8/454.8 kB\u001b[0m \u001b[31m22.5 MB/s\u001b[0m eta \u001b[36m0:00:00\u001b[0m\r\n",
      "\u001b[2K   \u001b[90m━━━━━━━━━━━━━━━━━━━━━━━━━━━━━━━━━━━━━━━━\u001b[0m \u001b[32m46.0/46.0 kB\u001b[0m \u001b[31m2.4 MB/s\u001b[0m eta \u001b[36m0:00:00\u001b[0m\r\n",
      "\u001b[2K   \u001b[90m━━━━━━━━━━━━━━━━━━━━━━━━━━━━━━━━━━━━━━━━\u001b[0m \u001b[32m5.9/5.9 MB\u001b[0m \u001b[31m88.9 MB/s\u001b[0m eta \u001b[36m0:00:00\u001b[0m\r\n",
      "\u001b[2K   \u001b[90m━━━━━━━━━━━━━━━━━━━━━━━━━━━━━━━━━━━━━━━━\u001b[0m \u001b[32m86.8/86.8 kB\u001b[0m \u001b[31m5.1 MB/s\u001b[0m eta \u001b[36m0:00:00\u001b[0m\r\n",
      "\u001b[?25h  Building wheel for pypika (pyproject.toml) ... \u001b[?25l\u001b[?25hdone\r\n",
      "\u001b[31mERROR: pip's dependency resolver does not currently take into account all the packages that are installed. This behaviour is the source of the following dependency conflicts.\r\n",
      "google-cloud-automl 1.0.1 requires google-api-core[grpc]<2.0.0dev,>=1.14.0, but you have google-api-core 2.24.2 which is incompatible.\r\n",
      "google-cloud-translate 3.12.1 requires protobuf!=3.20.0,!=3.20.1,!=4.21.0,!=4.21.1,!=4.21.2,!=4.21.3,!=4.21.4,!=4.21.5,<5.0.0dev,>=3.19.5, but you have protobuf 5.29.4 which is incompatible.\r\n",
      "gcsfs 2024.10.0 requires fsspec==2024.10.0, but you have fsspec 2025.3.2 which is incompatible.\r\n",
      "google-generativeai 0.8.4 requires google-ai-generativelanguage==0.6.15, but you have google-ai-generativelanguage 0.6.17 which is incompatible.\r\n",
      "bigframes 1.36.0 requires rich<14,>=12.4.4, but you have rich 14.0.0 which is incompatible.\u001b[0m\u001b[31m\r\n",
      "\u001b[0m"
     ]
    }
   ],
   "source": [
    "!pip install -Uq google-genai==1.7.0 chromadb==0.6.3 langgraph==0.3.21 langchain-google-genai==2.1.2"
   ]
  },
  {
   "cell_type": "markdown",
   "id": "66be759b",
   "metadata": {
    "id": "Rz9H5-VrmwKu",
    "papermill": {
     "duration": 0.010855,
     "end_time": "2025-04-18T21:04:39.716483",
     "exception": false,
     "start_time": "2025-04-18T21:04:39.705628",
     "status": "completed"
    },
    "tags": []
   },
   "source": [
    "### Setting up the Gemini API\n",
    "\n",
    "We'll use the Gemini API for our generative AI capabilities. Let's set up the API key and client."
   ]
  },
  {
   "cell_type": "code",
   "execution_count": 2,
   "id": "0af39166",
   "metadata": {
    "execution": {
     "iopub.execute_input": "2025-04-18T21:04:39.738557Z",
     "iopub.status.busy": "2025-04-18T21:04:39.738135Z",
     "iopub.status.idle": "2025-04-18T21:04:42.316266Z",
     "shell.execute_reply": "2025-04-18T21:04:42.315401Z"
    },
    "id": "DcbjA-yMmwKu",
    "papermill": {
     "duration": 2.590403,
     "end_time": "2025-04-18T21:04:42.318540",
     "exception": false,
     "start_time": "2025-04-18T21:04:39.728137",
     "status": "completed"
    },
    "tags": []
   },
   "outputs": [],
   "source": [
    "import os\n",
    "import google.generativeai as genai\n",
    "from google.genai import types\n",
    "from IPython.display import Markdown, display\n",
    "from kaggle_secrets import UserSecretsClient\n",
    "\n",
    "GOOGLE_API_KEY = UserSecretsClient().get_secret(\"GOOGLE_API_KEY\")\n",
    "\n",
    "# Configure the API key\n",
    "genai.configure(api_key=GOOGLE_API_KEY)\n",
    "# Set up the model - using Gemini 2.0 Flash-Lite for better rate limits\n",
    "model = genai.GenerativeModel('models/gemini-2.0-flash-lite')\n",
    "\n",
    "# Set up the embedding model\n",
    "embedding_model = 'models/embedding-001'\n",
    "\n",
    "# Function to display model responses\n",
    "def display_response(response):\n",
    "    if hasattr(response, 'text'):\n",
    "        display(Markdown(response.text))\n",
    "    else:\n",
    "        display(Markdown(response))"
   ]
  },
  {
   "cell_type": "markdown",
   "id": "89d8a290",
   "metadata": {
    "id": "V0A2biqImwKv",
    "papermill": {
     "duration": 0.008274,
     "end_time": "2025-04-18T21:04:42.335636",
     "exception": false,
     "start_time": "2025-04-18T21:04:42.327362",
     "status": "completed"
    },
    "tags": []
   },
   "source": [
    "### Automated retry for API requests\n",
    "\n",
    "Let's set up an automatic retry mechanism to handle potential API rate limits."
   ]
  },
  {
   "cell_type": "code",
   "execution_count": 3,
   "id": "855868d1",
   "metadata": {
    "execution": {
     "iopub.execute_input": "2025-04-18T21:04:42.354245Z",
     "iopub.status.busy": "2025-04-18T21:04:42.353351Z",
     "iopub.status.idle": "2025-04-18T21:04:42.361107Z",
     "shell.execute_reply": "2025-04-18T21:04:42.360161Z"
    },
    "id": "2QK6D_XemwKv",
    "papermill": {
     "duration": 0.018672,
     "end_time": "2025-04-18T21:04:42.362626",
     "exception": false,
     "start_time": "2025-04-18T21:04:42.343954",
     "status": "completed"
    },
    "tags": []
   },
   "outputs": [],
   "source": [
    "from google.api_core import retry\n",
    "import google.api_core.exceptions\n",
    "import time\n",
    "\n",
    "# Update the retry logic with exponential backoff for rate limits\n",
    "is_retriable = lambda e: (isinstance(e, google.api_core.exceptions.ServiceUnavailable) or\n",
    "                         isinstance(e, google.api_core.exceptions.ResourceExhausted) or\n",
    "                         isinstance(e, google.api_core.exceptions.TooManyRequests))\n",
    "\n",
    "# Custom retry decorator with longer delays\n",
    "def custom_retry(func):\n",
    "    def wrapper(*args, **kwargs):\n",
    "        max_retries = 5\n",
    "        retry_count = 0\n",
    "        while retry_count < max_retries:\n",
    "            try:\n",
    "                return func(*args, **kwargs)\n",
    "            except Exception as e:\n",
    "                if is_retriable(e) and retry_count < max_retries - 1:\n",
    "                    wait_time = 2 ** retry_count  # Exponential backoff\n",
    "                    print(f\"Rate limit hit. Waiting {wait_time} seconds before retry...\")\n",
    "                    time.sleep(wait_time)\n",
    "                    retry_count += 1\n",
    "                else:\n",
    "                    raise\n",
    "    return wrapper\n",
    "\n",
    "# Apply the custom retry to generate_content\n",
    "if not hasattr(genai.GenerativeModel.generate_content, '__wrapped__'):\n",
    "    genai.GenerativeModel.generate_content = custom_retry(genai.GenerativeModel.generate_content)"
   ]
  },
  {
   "cell_type": "markdown",
   "id": "eb29ed2e",
   "metadata": {
    "id": "o6GxAOBCmwKw",
    "papermill": {
     "duration": 0.008751,
     "end_time": "2025-04-18T21:04:42.379926",
     "exception": false,
     "start_time": "2025-04-18T21:04:42.371175",
     "status": "completed"
    },
    "tags": []
   },
   "source": [
    "## 1. Creating Sample Financial Data\n",
    "\n",
    "Let's create a sample dataset of financial transactions that we'll use throughout this project."
   ]
  },
  {
   "cell_type": "code",
   "execution_count": 4,
   "id": "03effd3f",
   "metadata": {
    "execution": {
     "iopub.execute_input": "2025-04-18T21:04:42.399977Z",
     "iopub.status.busy": "2025-04-18T21:04:42.398727Z",
     "iopub.status.idle": "2025-04-18T21:04:44.384053Z",
     "shell.execute_reply": "2025-04-18T21:04:44.383089Z"
    },
    "id": "EW12aLRpmwKw",
    "outputId": "5b2ee3fb-66e5-40ff-9fc5-5b3b6919810a",
    "papermill": {
     "duration": 1.997033,
     "end_time": "2025-04-18T21:04:44.385702",
     "exception": false,
     "start_time": "2025-04-18T21:04:42.388669",
     "status": "completed"
    },
    "tags": []
   },
   "outputs": [
    {
     "data": {
      "text/html": [
       "<div>\n",
       "<style scoped>\n",
       "    .dataframe tbody tr th:only-of-type {\n",
       "        vertical-align: middle;\n",
       "    }\n",
       "\n",
       "    .dataframe tbody tr th {\n",
       "        vertical-align: top;\n",
       "    }\n",
       "\n",
       "    .dataframe thead th {\n",
       "        text-align: right;\n",
       "    }\n",
       "</style>\n",
       "<table border=\"1\" class=\"dataframe\">\n",
       "  <thead>\n",
       "    <tr style=\"text-align: right;\">\n",
       "      <th></th>\n",
       "      <th>Date</th>\n",
       "      <th>Description</th>\n",
       "      <th>Amount</th>\n",
       "      <th>Category</th>\n",
       "    </tr>\n",
       "  </thead>\n",
       "  <tbody>\n",
       "    <tr>\n",
       "      <th>0</th>\n",
       "      <td>2025-01-18 21:04:44.337717</td>\n",
       "      <td>Target</td>\n",
       "      <td>-76.75</td>\n",
       "      <td>Groceries</td>\n",
       "    </tr>\n",
       "    <tr>\n",
       "      <th>1</th>\n",
       "      <td>2025-01-19 21:04:44.337717</td>\n",
       "      <td>Parking</td>\n",
       "      <td>-19.86</td>\n",
       "      <td>Transportation</td>\n",
       "    </tr>\n",
       "    <tr>\n",
       "      <th>2</th>\n",
       "      <td>2025-01-19 21:04:44.337717</td>\n",
       "      <td>Tuition</td>\n",
       "      <td>-610.97</td>\n",
       "      <td>Education</td>\n",
       "    </tr>\n",
       "    <tr>\n",
       "      <th>3</th>\n",
       "      <td>2025-01-20 21:04:44.337717</td>\n",
       "      <td>Whole Foods</td>\n",
       "      <td>-67.17</td>\n",
       "      <td>Groceries</td>\n",
       "    </tr>\n",
       "    <tr>\n",
       "      <th>4</th>\n",
       "      <td>2025-01-21 21:04:44.337717</td>\n",
       "      <td>Salary Deposit</td>\n",
       "      <td>3244.98</td>\n",
       "      <td>Income</td>\n",
       "    </tr>\n",
       "  </tbody>\n",
       "</table>\n",
       "</div>"
      ],
      "text/plain": [
       "                        Date     Description   Amount        Category\n",
       "0 2025-01-18 21:04:44.337717          Target   -76.75       Groceries\n",
       "1 2025-01-19 21:04:44.337717         Parking   -19.86  Transportation\n",
       "2 2025-01-19 21:04:44.337717         Tuition  -610.97       Education\n",
       "3 2025-01-20 21:04:44.337717     Whole Foods   -67.17       Groceries\n",
       "4 2025-01-21 21:04:44.337717  Salary Deposit  3244.98          Income"
      ]
     },
     "execution_count": 4,
     "metadata": {},
     "output_type": "execute_result"
    }
   ],
   "source": [
    "import pandas as pd\n",
    "import numpy as np\n",
    "import datetime\n",
    "import random\n",
    "\n",
    "# Set a random seed for reproducibility\n",
    "np.random.seed(42)\n",
    "random.seed(42)\n",
    "\n",
    "# Define categories and sample merchants\n",
    "categories = {\n",
    "    'Groceries': ['Whole Foods', 'Trader Joe\\'s', 'Safeway', 'Kroger', 'Walmart', 'Target'],\n",
    "    'Dining': ['Starbucks', 'Chipotle', 'McDonald\\'s', 'Subway', 'Pizza Hut', 'Local Restaurant'],\n",
    "    'Transportation': ['Uber', 'Lyft', 'Gas Station', 'Public Transit', 'Car Repair', 'Parking'],\n",
    "    'Shopping': ['Amazon', 'Best Buy', 'Macy\\'s', 'Nike', 'Apple Store', 'Home Depot'],\n",
    "    'Entertainment': ['Netflix', 'Spotify', 'Movie Theater', 'Concert Tickets', 'Hulu', 'Disney+'],\n",
    "    'Utilities': ['Electric Bill', 'Water Bill', 'Internet Provider', 'Phone Bill', 'Gas Bill', 'Trash Service'],\n",
    "    'Housing': ['Rent Payment', 'Mortgage Payment', 'Home Insurance', 'Furniture Store', 'Home Repair'],\n",
    "    'Healthcare': ['Pharmacy', 'Doctor Visit', 'Dental Checkup', 'Health Insurance', 'Gym Membership'],\n",
    "    'Education': ['Tuition', 'Textbooks', 'Online Course', 'School Supplies', 'Student Loan Payment'],\n",
    "    'Income': ['Salary Deposit', 'Freelance Payment', 'Tax Refund', 'Investment Dividend', 'Gift']\n",
    "}\n",
    "\n",
    "# Define typical amount ranges for each category\n",
    "amount_ranges = {\n",
    "    'Groceries': (30, 200),\n",
    "    'Dining': (10, 100),\n",
    "    'Transportation': (5, 150),\n",
    "    'Shopping': (20, 500),\n",
    "    'Entertainment': (10, 100),\n",
    "    'Utilities': (50, 300),\n",
    "    'Housing': (800, 2500),\n",
    "    'Healthcare': (20, 500),\n",
    "    'Education': (50, 1000),\n",
    "    'Income': (1000, 5000)\n",
    "}\n",
    "\n",
    "# Generate 3 months of transactions\n",
    "end_date = datetime.datetime.now()\n",
    "start_date = end_date - datetime.timedelta(days=90)\n",
    "date_range = pd.date_range(start=start_date, end=end_date, freq='D')\n",
    "\n",
    "# Create empty lists to store transaction data\n",
    "dates = []\n",
    "descriptions = []\n",
    "amounts = []\n",
    "true_categories = []  # We'll use this for evaluation later\n",
    "\n",
    "# Generate transactions\n",
    "for date in date_range:\n",
    "    # Number of transactions for this day (1-5)\n",
    "    num_transactions = random.randint(1, 5)\n",
    "\n",
    "    for _ in range(num_transactions):\n",
    "        # Select a random category\n",
    "        category = random.choice(list(categories.keys()))\n",
    "\n",
    "        # Select a random merchant from that category\n",
    "        merchant = random.choice(categories[category])\n",
    "\n",
    "        # Generate a random amount based on the category\n",
    "        min_amount, max_amount = amount_ranges[category]\n",
    "        amount = round(random.uniform(min_amount, max_amount), 2)\n",
    "\n",
    "        # For income, make the amount positive; for expenses, make it negative\n",
    "        if category != 'Income':\n",
    "            amount = -amount\n",
    "\n",
    "        # Add to our lists\n",
    "        dates.append(date)\n",
    "        descriptions.append(merchant)\n",
    "        amounts.append(amount)\n",
    "        true_categories.append(category)\n",
    "\n",
    "# Create a DataFrame\n",
    "transactions_df = pd.DataFrame({\n",
    "    'Date': dates,\n",
    "    'Description': descriptions,\n",
    "    'Amount': amounts,\n",
    "    'Category': true_categories\n",
    "})\n",
    "\n",
    "# Sort by date\n",
    "transactions_df = transactions_df.sort_values('Date').reset_index(drop=True)\n",
    "\n",
    "# Display the first few transactions\n",
    "transactions_df.head()"
   ]
  },
  {
   "cell_type": "markdown",
   "id": "c5974cad",
   "metadata": {
    "id": "jcVjRONcmwKx",
    "papermill": {
     "duration": 0.008941,
     "end_time": "2025-04-18T21:04:44.403823",
     "exception": false,
     "start_time": "2025-04-18T21:04:44.394882",
     "status": "completed"
    },
    "tags": []
   },
   "source": [
    "Let's visualize the distribution of transactions by category to get a better understanding of our data."
   ]
  },
  {
   "cell_type": "code",
   "execution_count": 5,
   "id": "9a2ab7da",
   "metadata": {
    "execution": {
     "iopub.execute_input": "2025-04-18T21:04:44.422873Z",
     "iopub.status.busy": "2025-04-18T21:04:44.422347Z",
     "iopub.status.idle": "2025-04-18T21:04:46.735528Z",
     "shell.execute_reply": "2025-04-18T21:04:46.734703Z"
    },
    "id": "5EaXtEtpmwKx",
    "outputId": "cf26b416-9b8f-455d-e04c-acfadec05f1b",
    "papermill": {
     "duration": 2.324522,
     "end_time": "2025-04-18T21:04:46.737106",
     "exception": false,
     "start_time": "2025-04-18T21:04:44.412584",
     "status": "completed"
    },
    "tags": []
   },
   "outputs": [
    {
     "data": {
      "image/png": "[encoded data removed]",
      "text/plain": [
       "<Figure size 1200x600 with 1 Axes>"
      ]
     },
     "metadata": {},
     "output_type": "display_data"
    },
    {
     "data": {
      "image/png": "[encoded data removed]",
      "text/plain": [
       "<Figure size 1200x600 with 1 Axes>"
      ]
     },
     "metadata": {},
     "output_type": "display_data"
    }
   ],
   "source": [
    "import matplotlib.pyplot as plt\n",
    "import seaborn as sns\n",
    "\n",
    "plt.figure(figsize=(12, 6))\n",
    "sns.countplot(y='Category', data=transactions_df, order=transactions_df['Category'].value_counts().index)\n",
    "plt.title('Number of Transactions by Category')\n",
    "plt.tight_layout()\n",
    "plt.show()\n",
    "\n",
    "# Create a DataFrame for spending by category (excluding income)\n",
    "spending_by_category = transactions_df[transactions_df['Amount'] < 0].groupby('Category')['Amount'].sum().abs().sort_values(ascending=False)\n",
    "\n",
    "plt.figure(figsize=(12, 6))\n",
    "spending_by_category.plot(kind='bar')\n",
    "plt.title('Total Spending by Category')\n",
    "plt.ylabel('Amount ($)')\n",
    "plt.tight_layout()\n",
    "plt.show()"
   ]
  },
  {
   "cell_type": "markdown",
   "id": "394d48bc",
   "metadata": {
    "id": "Y1dQTrn2mwKx",
    "papermill": {
     "duration": 0.009275,
     "end_time": "2025-04-18T21:04:46.756391",
     "exception": false,
     "start_time": "2025-04-18T21:04:46.747116",
     "status": "completed"
    },
    "tags": []
   },
   "source": [
    "## 2. Capability 1: Structured Output for Transaction Categorization\n",
    "\n",
    "One of the key challenges in personal finance management is correctly categorizing transactions. Let's use the Gemini API's structured output capability to automatically categorize transactions based on their descriptions."
   ]
  },
  {
   "cell_type": "code",
   "execution_count": 6,
   "id": "9e733518",
   "metadata": {
    "execution": {
     "iopub.execute_input": "2025-04-18T21:04:46.777008Z",
     "iopub.status.busy": "2025-04-18T21:04:46.776432Z",
     "iopub.status.idle": "2025-04-18T21:04:46.781886Z",
     "shell.execute_reply": "2025-04-18T21:04:46.780991Z"
    },
    "id": "1x2Ae-uJmwKy",
    "papermill": {
     "duration": 0.017188,
     "end_time": "2025-04-18T21:04:46.783263",
     "exception": false,
     "start_time": "2025-04-18T21:04:46.766075",
     "status": "completed"
    },
    "tags": []
   },
   "outputs": [],
   "source": [
    "# Define the schema for transaction categorization\n",
    "transaction_schema = {\n",
    "    \"type\": \"object\",\n",
    "    \"properties\": {\n",
    "        \"category\": {\n",
    "            \"type\": \"string\",\n",
    "            \"description\": \"The category of the transaction\",\n",
    "            \"enum\": list(categories.keys())\n",
    "        },\n",
    "        \"confidence\": {\n",
    "            \"type\": \"number\",\n",
    "            \"description\": \"Confidence score between 0 and 1\"\n",
    "        },\n",
    "        \"reasoning\": {\n",
    "            \"type\": \"string\",\n",
    "            \"description\": \"Explanation for the categorization\"\n",
    "        }\n",
    "    },\n",
    "    \"required\": [\"category\", \"confidence\", \"reasoning\"]\n",
    "}"
   ]
  },
  {
   "cell_type": "code",
   "execution_count": 7,
   "id": "ab20d8d8",
   "metadata": {
    "execution": {
     "iopub.execute_input": "2025-04-18T21:04:46.805038Z",
     "iopub.status.busy": "2025-04-18T21:04:46.804235Z",
     "iopub.status.idle": "2025-04-18T21:04:46.811606Z",
     "shell.execute_reply": "2025-04-18T21:04:46.810870Z"
    },
    "id": "xJ2e0qJumwKy",
    "papermill": {
     "duration": 0.019605,
     "end_time": "2025-04-18T21:04:46.812917",
     "exception": false,
     "start_time": "2025-04-18T21:04:46.793312",
     "status": "completed"
    },
    "tags": []
   },
   "outputs": [],
   "source": [
    "import json\n",
    "\n",
    "def categorize_transaction(description, amount):\n",
    "    prompt = f\"\"\"\n",
    "    You are a financial transaction categorizer. Categorize the following transaction into one of these categories:\n",
    "    {', '.join(categories.keys())}\n",
    "\n",
    "    Transaction: {description}\n",
    "    Amount: ${abs(amount):.2f} {'spent' if amount < 0 else 'received'}\n",
    "\n",
    "    Provide your response as a JSON object with the following properties:\n",
    "    - category: The most appropriate category from the list\n",
    "    - confidence: A number between 0 and 1 indicating your confidence in this categorization\n",
    "    - reasoning: A brief explanation of why you chose this category\n",
    "    \"\"\"\n",
    "\n",
    "    # For google-genai, we need to use a different approach for structured output\n",
    "    response = model.generate_content(prompt)\n",
    "\n",
    "    # Extract JSON from the response\n",
    "    try:\n",
    "        # Look for JSON in the response text\n",
    "        response_text = response.text\n",
    "        # Find JSON content between curly braces\n",
    "        json_start = response_text.find('{')\n",
    "        json_end = response_text.rfind('}')\n",
    "        if json_start != -1 and json_end != -1:\n",
    "            json_str = response_text[json_start:json_end+1]\n",
    "            result = json.loads(json_str)\n",
    "            return result\n",
    "        else:\n",
    "            # If no JSON found, create a default response\n",
    "            return {\n",
    "                \"category\": \"Shopping\" if amount < 0 else \"Income\",\n",
    "                \"confidence\": 0.5,\n",
    "                \"reasoning\": \"Default categorization based on amount\"\n",
    "            }\n",
    "    except Exception as e:\n",
    "        print(f\"Error parsing response: {e}\")\n",
    "        print(f\"Response text: {response.text}\")\n",
    "        # Return a default response\n",
    "        return {\n",
    "            \"category\": \"Shopping\" if amount < 0 else \"Income\",\n",
    "            \"confidence\": 0.5,\n",
    "            \"reasoning\": \"Default categorization due to parsing error\"\n",
    "        }"
   ]
  },
  {
   "cell_type": "code",
   "execution_count": 8,
   "id": "db448bbc",
   "metadata": {
    "execution": {
     "iopub.execute_input": "2025-04-18T21:04:46.834295Z",
     "iopub.status.busy": "2025-04-18T21:04:46.833506Z",
     "iopub.status.idle": "2025-04-18T21:04:50.906345Z",
     "shell.execute_reply": "2025-04-18T21:04:50.905363Z"
    },
    "id": "TXhhMmwlmwKz",
    "outputId": "c2579f8c-f1e6-46ca-c495-806625401824",
    "papermill": {
     "duration": 4.084892,
     "end_time": "2025-04-18T21:04:50.907664",
     "exception": false,
     "start_time": "2025-04-18T21:04:46.822772",
     "status": "completed"
    },
    "tags": []
   },
   "outputs": [
    {
     "name": "stdout",
     "output_type": "stream",
     "text": [
      "Transaction: Whole Foods, Amount: $85.42 spent\n",
      "Categorized as: Groceries (Confidence: 0.95)\n",
      "Reasoning: Whole Foods is a grocery store, and this transaction indicates a purchase there. Therefore, it is most likely a grocery expense.\n",
      "--------------------------------------------------------------------------------\n",
      "Transaction: Netflix, Amount: $15.99 spent\n",
      "Categorized as: Entertainment (Confidence: 0.95)\n",
      "Reasoning: Netflix is a streaming service providing movies and TV shows, which falls under entertainment.\n",
      "--------------------------------------------------------------------------------\n",
      "Transaction: Uber, Amount: $24.50 spent\n",
      "Categorized as: Transportation (Confidence: 0.95)\n",
      "Reasoning: Uber is a ride-sharing service, and transportation expenses fall under this category.\n",
      "--------------------------------------------------------------------------------\n",
      "Transaction: Salary Deposit, Amount: $3500.00 received\n",
      "Categorized as: Income (Confidence: 1.00)\n",
      "Reasoning: This transaction represents money received, specifically a salary deposit, which is the definition of income.\n",
      "--------------------------------------------------------------------------------\n",
      "Transaction: Doctor Visit, Amount: $150.00 spent\n",
      "Categorized as: Healthcare (Confidence: 0.95)\n",
      "Reasoning: A doctor visit directly relates to medical services and is a healthcare expense.\n",
      "--------------------------------------------------------------------------------\n"
     ]
    }
   ],
   "source": [
    "# Test the categorization function on a few examples\n",
    "test_transactions = [\n",
    "    (\"Whole Foods\", -85.42),\n",
    "    (\"Netflix\", -15.99),\n",
    "    (\"Uber\", -24.50),\n",
    "    (\"Salary Deposit\", 3500.00),\n",
    "    (\"Doctor Visit\", -150.00)\n",
    "]\n",
    "\n",
    "for desc, amount in test_transactions:\n",
    "    result = categorize_transaction(desc, amount)\n",
    "    print(f\"Transaction: {desc}, Amount: ${abs(amount):.2f} {'spent' if amount < 0 else 'received'}\")\n",
    "    print(f\"Categorized as: {result['category']} (Confidence: {result['confidence']:.2f})\")\n",
    "    print(f\"Reasoning: {result['reasoning']}\")\n",
    "    print(\"-\" * 80)"
   ]
  },
  {
   "cell_type": "markdown",
   "id": "9fbd0e01",
   "metadata": {
    "id": "Iv2Cgr6JmwKz",
    "papermill": {
     "duration": 0.009705,
     "end_time": "2025-04-18T21:04:50.927707",
     "exception": false,
     "start_time": "2025-04-18T21:04:50.918002",
     "status": "completed"
    },
    "tags": []
   },
   "source": [
    "Now let's apply this categorization to a subset of our transactions and evaluate the accuracy."
   ]
  },
  {
   "cell_type": "code",
   "execution_count": 9,
   "id": "ed215f83",
   "metadata": {
    "execution": {
     "iopub.execute_input": "2025-04-18T21:04:50.948897Z",
     "iopub.status.busy": "2025-04-18T21:04:50.948524Z",
     "iopub.status.idle": "2025-04-18T21:05:05.234844Z",
     "shell.execute_reply": "2025-04-18T21:05:05.233886Z"
    },
    "id": "NKjrHJYhmwKz",
    "outputId": "b6ff1cf0-2896-4efb-dd51-b0e789369f36",
    "papermill": {
     "duration": 14.298725,
     "end_time": "2025-04-18T21:05:05.236333",
     "exception": false,
     "start_time": "2025-04-18T21:04:50.937608",
     "status": "completed"
    },
    "tags": []
   },
   "outputs": [
    {
     "name": "stdout",
     "output_type": "stream",
     "text": [
      "Categorization Accuracy: 95.00%\n"
     ]
    },
    {
     "data": {
      "text/html": [
       "<div>\n",
       "<style scoped>\n",
       "    .dataframe tbody tr th:only-of-type {\n",
       "        vertical-align: middle;\n",
       "    }\n",
       "\n",
       "    .dataframe tbody tr th {\n",
       "        vertical-align: top;\n",
       "    }\n",
       "\n",
       "    .dataframe thead th {\n",
       "        text-align: right;\n",
       "    }\n",
       "</style>\n",
       "<table border=\"1\" class=\"dataframe\">\n",
       "  <thead>\n",
       "    <tr style=\"text-align: right;\">\n",
       "      <th></th>\n",
       "      <th>Description</th>\n",
       "      <th>Amount</th>\n",
       "      <th>Category</th>\n",
       "      <th>Predicted_Category</th>\n",
       "      <th>Confidence</th>\n",
       "      <th>Correct</th>\n",
       "    </tr>\n",
       "  </thead>\n",
       "  <tbody>\n",
       "    <tr>\n",
       "      <th>203</th>\n",
       "      <td>Doctor Visit</td>\n",
       "      <td>-380.23</td>\n",
       "      <td>Healthcare</td>\n",
       "      <td>Healthcare</td>\n",
       "      <td>0.95</td>\n",
       "      <td>True</td>\n",
       "    </tr>\n",
       "    <tr>\n",
       "      <th>266</th>\n",
       "      <td>Internet Provider</td>\n",
       "      <td>-217.53</td>\n",
       "      <td>Utilities</td>\n",
       "      <td>Utilities</td>\n",
       "      <td>0.95</td>\n",
       "      <td>True</td>\n",
       "    </tr>\n",
       "    <tr>\n",
       "      <th>152</th>\n",
       "      <td>Whole Foods</td>\n",
       "      <td>-162.33</td>\n",
       "      <td>Groceries</td>\n",
       "      <td>Groceries</td>\n",
       "      <td>0.95</td>\n",
       "      <td>True</td>\n",
       "    </tr>\n",
       "    <tr>\n",
       "      <th>9</th>\n",
       "      <td>Target</td>\n",
       "      <td>-108.10</td>\n",
       "      <td>Groceries</td>\n",
       "      <td>Shopping</td>\n",
       "      <td>0.95</td>\n",
       "      <td>False</td>\n",
       "    </tr>\n",
       "    <tr>\n",
       "      <th>233</th>\n",
       "      <td>Subway</td>\n",
       "      <td>-54.26</td>\n",
       "      <td>Dining</td>\n",
       "      <td>Dining</td>\n",
       "      <td>0.95</td>\n",
       "      <td>True</td>\n",
       "    </tr>\n",
       "    <tr>\n",
       "      <th>226</th>\n",
       "      <td>Macy's</td>\n",
       "      <td>-129.19</td>\n",
       "      <td>Shopping</td>\n",
       "      <td>Shopping</td>\n",
       "      <td>0.95</td>\n",
       "      <td>True</td>\n",
       "    </tr>\n",
       "    <tr>\n",
       "      <th>196</th>\n",
       "      <td>Investment Dividend</td>\n",
       "      <td>2586.62</td>\n",
       "      <td>Income</td>\n",
       "      <td>Income</td>\n",
       "      <td>1.00</td>\n",
       "      <td>True</td>\n",
       "    </tr>\n",
       "    <tr>\n",
       "      <th>109</th>\n",
       "      <td>Car Repair</td>\n",
       "      <td>-10.22</td>\n",
       "      <td>Transportation</td>\n",
       "      <td>Transportation</td>\n",
       "      <td>0.95</td>\n",
       "      <td>True</td>\n",
       "    </tr>\n",
       "    <tr>\n",
       "      <th>5</th>\n",
       "      <td>School Supplies</td>\n",
       "      <td>-259.42</td>\n",
       "      <td>Education</td>\n",
       "      <td>Education</td>\n",
       "      <td>0.95</td>\n",
       "      <td>True</td>\n",
       "    </tr>\n",
       "    <tr>\n",
       "      <th>175</th>\n",
       "      <td>Doctor Visit</td>\n",
       "      <td>-151.01</td>\n",
       "      <td>Healthcare</td>\n",
       "      <td>Healthcare</td>\n",
       "      <td>0.95</td>\n",
       "      <td>True</td>\n",
       "    </tr>\n",
       "    <tr>\n",
       "      <th>237</th>\n",
       "      <td>Pizza Hut</td>\n",
       "      <td>-78.80</td>\n",
       "      <td>Dining</td>\n",
       "      <td>Dining</td>\n",
       "      <td>0.95</td>\n",
       "      <td>True</td>\n",
       "    </tr>\n",
       "    <tr>\n",
       "      <th>57</th>\n",
       "      <td>McDonald's</td>\n",
       "      <td>-11.89</td>\n",
       "      <td>Dining</td>\n",
       "      <td>Dining</td>\n",
       "      <td>0.95</td>\n",
       "      <td>True</td>\n",
       "    </tr>\n",
       "    <tr>\n",
       "      <th>218</th>\n",
       "      <td>Phone Bill</td>\n",
       "      <td>-188.37</td>\n",
       "      <td>Utilities</td>\n",
       "      <td>Utilities</td>\n",
       "      <td>0.95</td>\n",
       "      <td>True</td>\n",
       "    </tr>\n",
       "    <tr>\n",
       "      <th>45</th>\n",
       "      <td>Pharmacy</td>\n",
       "      <td>-73.70</td>\n",
       "      <td>Healthcare</td>\n",
       "      <td>Healthcare</td>\n",
       "      <td>0.95</td>\n",
       "      <td>True</td>\n",
       "    </tr>\n",
       "    <tr>\n",
       "      <th>182</th>\n",
       "      <td>Uber</td>\n",
       "      <td>-42.72</td>\n",
       "      <td>Transportation</td>\n",
       "      <td>Transportation</td>\n",
       "      <td>0.95</td>\n",
       "      <td>True</td>\n",
       "    </tr>\n",
       "    <tr>\n",
       "      <th>221</th>\n",
       "      <td>Dental Checkup</td>\n",
       "      <td>-167.18</td>\n",
       "      <td>Healthcare</td>\n",
       "      <td>Healthcare</td>\n",
       "      <td>0.95</td>\n",
       "      <td>True</td>\n",
       "    </tr>\n",
       "    <tr>\n",
       "      <th>289</th>\n",
       "      <td>Hulu</td>\n",
       "      <td>-62.19</td>\n",
       "      <td>Entertainment</td>\n",
       "      <td>Entertainment</td>\n",
       "      <td>0.95</td>\n",
       "      <td>True</td>\n",
       "    </tr>\n",
       "    <tr>\n",
       "      <th>211</th>\n",
       "      <td>Internet Provider</td>\n",
       "      <td>-270.08</td>\n",
       "      <td>Utilities</td>\n",
       "      <td>Utilities</td>\n",
       "      <td>0.95</td>\n",
       "      <td>True</td>\n",
       "    </tr>\n",
       "    <tr>\n",
       "      <th>148</th>\n",
       "      <td>Gym Membership</td>\n",
       "      <td>-427.87</td>\n",
       "      <td>Healthcare</td>\n",
       "      <td>Healthcare</td>\n",
       "      <td>0.75</td>\n",
       "      <td>True</td>\n",
       "    </tr>\n",
       "    <tr>\n",
       "      <th>165</th>\n",
       "      <td>Movie Theater</td>\n",
       "      <td>-38.77</td>\n",
       "      <td>Entertainment</td>\n",
       "      <td>Entertainment</td>\n",
       "      <td>0.95</td>\n",
       "      <td>True</td>\n",
       "    </tr>\n",
       "  </tbody>\n",
       "</table>\n",
       "</div>"
      ],
      "text/plain": [
       "             Description   Amount        Category Predicted_Category  \\\n",
       "203         Doctor Visit  -380.23      Healthcare         Healthcare   \n",
       "266    Internet Provider  -217.53       Utilities          Utilities   \n",
       "152          Whole Foods  -162.33       Groceries          Groceries   \n",
       "9                 Target  -108.10       Groceries           Shopping   \n",
       "233               Subway   -54.26          Dining             Dining   \n",
       "226               Macy's  -129.19        Shopping           Shopping   \n",
       "196  Investment Dividend  2586.62          Income             Income   \n",
       "109           Car Repair   -10.22  Transportation     Transportation   \n",
       "5        School Supplies  -259.42       Education          Education   \n",
       "175         Doctor Visit  -151.01      Healthcare         Healthcare   \n",
       "237            Pizza Hut   -78.80          Dining             Dining   \n",
       "57            McDonald's   -11.89          Dining             Dining   \n",
       "218           Phone Bill  -188.37       Utilities          Utilities   \n",
       "45              Pharmacy   -73.70      Healthcare         Healthcare   \n",
       "182                 Uber   -42.72  Transportation     Transportation   \n",
       "221       Dental Checkup  -167.18      Healthcare         Healthcare   \n",
       "289                 Hulu   -62.19   Entertainment      Entertainment   \n",
       "211    Internet Provider  -270.08       Utilities          Utilities   \n",
       "148       Gym Membership  -427.87      Healthcare         Healthcare   \n",
       "165        Movie Theater   -38.77   Entertainment      Entertainment   \n",
       "\n",
       "     Confidence  Correct  \n",
       "203        0.95     True  \n",
       "266        0.95     True  \n",
       "152        0.95     True  \n",
       "9          0.95    False  \n",
       "233        0.95     True  \n",
       "226        0.95     True  \n",
       "196        1.00     True  \n",
       "109        0.95     True  \n",
       "5          0.95     True  \n",
       "175        0.95     True  \n",
       "237        0.95     True  \n",
       "57         0.95     True  \n",
       "218        0.95     True  \n",
       "45         0.95     True  \n",
       "182        0.95     True  \n",
       "221        0.95     True  \n",
       "289        0.95     True  \n",
       "211        0.95     True  \n",
       "148        0.75     True  \n",
       "165        0.95     True  "
      ]
     },
     "execution_count": 9,
     "metadata": {},
     "output_type": "execute_result"
    }
   ],
   "source": [
    "# Take a sample of transactions for evaluation\n",
    "sample_size = 20\n",
    "sample_df = transactions_df.sample(sample_size, random_state=42).copy()\n",
    "\n",
    "# Apply categorization\n",
    "predicted_categories = []\n",
    "confidences = []\n",
    "reasonings = []\n",
    "\n",
    "for _, row in sample_df.iterrows():\n",
    "    result = categorize_transaction(row['Description'], row['Amount'])\n",
    "    predicted_categories.append(result['category'])\n",
    "    confidences.append(result['confidence'])\n",
    "    reasonings.append(result['reasoning'])\n",
    "\n",
    "sample_df['Predicted_Category'] = predicted_categories\n",
    "sample_df['Confidence'] = confidences\n",
    "sample_df['Reasoning'] = reasonings\n",
    "sample_df['Correct'] = sample_df['Category'] == sample_df['Predicted_Category']\n",
    "\n",
    "# Calculate accuracy\n",
    "accuracy = sample_df['Correct'].mean()\n",
    "print(f\"Categorization Accuracy: {accuracy:.2%}\")\n",
    "\n",
    "# Display results\n",
    "sample_df[['Description', 'Amount', 'Category', 'Predicted_Category', 'Confidence', 'Correct']]"
   ]
  },
  {
   "cell_type": "markdown",
   "id": "a3663041",
   "metadata": {
    "id": "GEB3OKnfmwK0",
    "papermill": {
     "duration": 0.010258,
     "end_time": "2025-04-18T21:05:05.257986",
     "exception": false,
     "start_time": "2025-04-18T21:05:05.247728",
     "status": "completed"
    },
    "tags": []
   },
   "source": [
    "Let's visualize the confusion matrix to see where the model is making mistakes."
   ]
  },
  {
   "cell_type": "code",
   "execution_count": 10,
   "id": "e28aba8c",
   "metadata": {
    "execution": {
     "iopub.execute_input": "2025-04-18T21:05:05.280519Z",
     "iopub.status.busy": "2025-04-18T21:05:05.279677Z",
     "iopub.status.idle": "2025-04-18T21:05:05.960870Z",
     "shell.execute_reply": "2025-04-18T21:05:05.959672Z"
    },
    "id": "1XjsU-YImwK0",
    "outputId": "56c07c5f-4fbf-40b2-92f3-2ae538cc530e",
    "papermill": {
     "duration": 0.694238,
     "end_time": "2025-04-18T21:05:05.962560",
     "exception": false,
     "start_time": "2025-04-18T21:05:05.268322",
     "status": "completed"
    },
    "tags": []
   },
   "outputs": [
    {
     "data": {
      "text/plain": [
       "<Figure size 1200x1000 with 0 Axes>"
      ]
     },
     "metadata": {},
     "output_type": "display_data"
    },
    {
     "data": {
      "image/png": "[encoded data removed]",
      "text/plain": [
       "<Figure size 640x480 with 2 Axes>"
      ]
     },
     "metadata": {},
     "output_type": "display_data"
    }
   ],
   "source": [
    "from sklearn.metrics import confusion_matrix, ConfusionMatrixDisplay\n",
    "\n",
    "# Create confusion matrix\n",
    "cm = confusion_matrix(sample_df['Category'], sample_df['Predicted_Category'],\n",
    "                      labels=list(categories.keys()))\n",
    "\n",
    "# Plot confusion matrix\n",
    "plt.figure(figsize=(12, 10))\n",
    "disp = ConfusionMatrixDisplay(confusion_matrix=cm, display_labels=list(categories.keys()))\n",
    "disp.plot(cmap='Blues')\n",
    "plt.title('Confusion Matrix for Transaction Categorization')\n",
    "plt.xticks(rotation=45, ha='right')\n",
    "plt.tight_layout()\n",
    "plt.show()"
   ]
  },
  {
   "cell_type": "markdown",
   "id": "a509c84e",
   "metadata": {
    "id": "8BSYINUEmwK0",
    "papermill": {
     "duration": 0.076107,
     "end_time": "2025-04-18T21:05:06.051378",
     "exception": false,
     "start_time": "2025-04-18T21:05:05.975271",
     "status": "completed"
    },
    "tags": []
   },
   "source": [
    "## 3. Capability 2: Embeddings for Transaction Similarity\n",
    "\n",
    "Let's use embeddings to find similar transactions and identify spending patterns."
   ]
  },
  {
   "cell_type": "code",
   "execution_count": 11,
   "id": "da21f0ac",
   "metadata": {
    "execution": {
     "iopub.execute_input": "2025-04-18T21:05:06.076620Z",
     "iopub.status.busy": "2025-04-18T21:05:06.076341Z",
     "iopub.status.idle": "2025-04-18T21:05:06.081436Z",
     "shell.execute_reply": "2025-04-18T21:05:06.080559Z"
    },
    "id": "y8WNCWICmwK0",
    "papermill": {
     "duration": 0.019657,
     "end_time": "2025-04-18T21:05:06.083047",
     "exception": false,
     "start_time": "2025-04-18T21:05:06.063390",
     "status": "completed"
    },
    "tags": []
   },
   "outputs": [],
   "source": [
    "# Function to get embeddings for transaction descriptions\n",
    "def get_embedding(text):\n",
    "    try:\n",
    "        result = genai.embed_content(\n",
    "            model=embedding_model,\n",
    "            content=text,\n",
    "            task_type=\"retrieval_document\"\n",
    "        )\n",
    "        return result['embedding']\n",
    "    except Exception as e:\n",
    "        print(f\"Error getting embedding: {e}\")\n",
    "        # Return a zero vector as fallback\n",
    "        return [0] * 768  # Typical embedding dimension"
   ]
  },
  {
   "cell_type": "code",
   "execution_count": 12,
   "id": "d28af785",
   "metadata": {
    "execution": {
     "iopub.execute_input": "2025-04-18T21:05:06.108368Z",
     "iopub.status.busy": "2025-04-18T21:05:06.108082Z",
     "iopub.status.idle": "2025-04-18T21:05:20.849604Z",
     "shell.execute_reply": "2025-04-18T21:05:20.848622Z"
    },
    "id": "UYBI8DlSmwK1",
    "papermill": {
     "duration": 14.756136,
     "end_time": "2025-04-18T21:05:20.851405",
     "exception": false,
     "start_time": "2025-04-18T21:05:06.095269",
     "status": "completed"
    },
    "tags": []
   },
   "outputs": [],
   "source": [
    "# Get embeddings for all transactions\n",
    "transaction_texts = [f\"{row['Description']} - ${abs(row['Amount']):.2f} {'spent' if row['Amount'] < 0 else 'received'}\"\n",
    "                    for _, row in transactions_df.iterrows()]\n",
    "\n",
    "# Get embeddings for a subset of transactions to save time\n",
    "subset_size = 50\n",
    "subset_df = transactions_df.sample(subset_size, random_state=42).copy()\n",
    "subset_texts = [f\"{row['Description']} - ${abs(row['Amount']):.2f} {'spent' if row['Amount'] < 0 else 'received'}\"\n",
    "               for _, row in subset_df.iterrows()]\n",
    "\n",
    "# Get embeddings\n",
    "embeddings = []\n",
    "for text in subset_texts:\n",
    "    embedding = get_embedding(text)\n",
    "    embeddings.append(embedding)\n",
    "\n",
    "# Store embeddings in the DataFrame\n",
    "subset_df['Embedding'] = embeddings"
   ]
  },
  {
   "cell_type": "code",
   "execution_count": 13,
   "id": "c65e6192",
   "metadata": {
    "execution": {
     "iopub.execute_input": "2025-04-18T21:05:20.877164Z",
     "iopub.status.busy": "2025-04-18T21:05:20.876862Z",
     "iopub.status.idle": "2025-04-18T21:05:20.883259Z",
     "shell.execute_reply": "2025-04-18T21:05:20.882527Z"
    },
    "id": "XKb1JM-jmwK1",
    "papermill": {
     "duration": 0.021131,
     "end_time": "2025-04-18T21:05:20.884576",
     "exception": false,
     "start_time": "2025-04-18T21:05:20.863445",
     "status": "completed"
    },
    "tags": []
   },
   "outputs": [],
   "source": [
    "import numpy as np\n",
    "from sklearn.metrics.pairwise import cosine_similarity\n",
    "\n",
    "# Function to find similar transactions\n",
    "def find_similar_transactions(query_text, df, top_n=5):\n",
    "    # Get embedding for the query\n",
    "    query_embedding = get_embedding(query_text)\n",
    "\n",
    "    # Calculate similarity scores\n",
    "    similarities = []\n",
    "    for idx, row in df.iterrows():\n",
    "        similarity = cosine_similarity(\n",
    "            [query_embedding],\n",
    "            [row['Embedding']]\n",
    "        )[0][0]\n",
    "        similarities.append((idx, similarity))\n",
    "\n",
    "    # Sort by similarity score\n",
    "    similarities.sort(key=lambda x: x[1], reverse=True)\n",
    "\n",
    "    # Return top N similar transactions\n",
    "    results = []\n",
    "    for idx, score in similarities[:top_n]:\n",
    "        row = df.loc[idx]\n",
    "        results.append({\n",
    "            'Description': row['Description'],\n",
    "            'Amount': row['Amount'],\n",
    "            'Category': row['Category'],\n",
    "            'Date': row['Date'],\n",
    "            'Similarity': score\n",
    "        })\n",
    "\n",
    "    return results"
   ]
  },
  {
   "cell_type": "code",
   "execution_count": 14,
   "id": "fd160e5b",
   "metadata": {
    "execution": {
     "iopub.execute_input": "2025-04-18T21:05:20.910245Z",
     "iopub.status.busy": "2025-04-18T21:05:20.909945Z",
     "iopub.status.idle": "2025-04-18T21:05:21.225003Z",
     "shell.execute_reply": "2025-04-18T21:05:21.223879Z"
    },
    "id": "kTREJ-DLmwK1",
    "outputId": "f388d54d-a186-4d5c-bb7d-6c4083300a28",
    "papermill": {
     "duration": 0.329751,
     "end_time": "2025-04-18T21:05:21.226571",
     "exception": false,
     "start_time": "2025-04-18T21:05:20.896820",
     "status": "completed"
    },
    "tags": []
   },
   "outputs": [
    {
     "name": "stdout",
     "output_type": "stream",
     "text": [
      "Query: Coffee shop - $5.50 spent\n",
      "\n",
      "Similar Transactions:\n",
      "1. Local Restaurant - $31.01 spent (Dining)\n",
      "   Date: 2025-04-03, Similarity: 0.9346\n",
      "2. McDonald's - $11.89 spent (Dining)\n",
      "   Date: 2025-02-05, Similarity: 0.9334\n",
      "3. Local Restaurant - $35.72 spent (Dining)\n",
      "   Date: 2025-03-10, Similarity: 0.9317\n",
      "4. Subway - $54.26 spent (Dining)\n",
      "   Date: 2025-03-31, Similarity: 0.9270\n",
      "5. Subway - $35.02 spent (Dining)\n",
      "   Date: 2025-01-24, Similarity: 0.9228\n"
     ]
    }
   ],
   "source": [
    "# Test the similar transaction finder\n",
    "query = \"Coffee shop - $5.50 spent\"\n",
    "similar_transactions = find_similar_transactions(query, subset_df)\n",
    "\n",
    "print(f\"Query: {query}\\n\")\n",
    "print(\"Similar Transactions:\")\n",
    "for i, tx in enumerate(similar_transactions, 1):\n",
    "    print(f\"{i}. {tx['Description']} - ${abs(tx['Amount']):.2f} {'spent' if tx['Amount'] < 0 else 'received'} ({tx['Category']})\")\n",
    "    print(f\"   Date: {tx['Date'].strftime('%Y-%m-%d')}, Similarity: {tx['Similarity']:.4f}\")"
   ]
  },
  {
   "cell_type": "markdown",
   "id": "cbee4604",
   "metadata": {
    "id": "lnW-HRC5mwK1",
    "papermill": {
     "duration": 0.0127,
     "end_time": "2025-04-18T21:05:21.251287",
     "exception": false,
     "start_time": "2025-04-18T21:05:21.238587",
     "status": "completed"
    },
    "tags": []
   },
   "source": [
    "Let's use embeddings to cluster transactions and identify spending patterns."
   ]
  },
  {
   "cell_type": "code",
   "execution_count": 15,
   "id": "ff2dbde2",
   "metadata": {
    "execution": {
     "iopub.execute_input": "2025-04-18T21:05:21.277744Z",
     "iopub.status.busy": "2025-04-18T21:05:21.277435Z",
     "iopub.status.idle": "2025-04-18T21:05:22.216778Z",
     "shell.execute_reply": "2025-04-18T21:05:22.215697Z"
    },
    "id": "62xc1vJLmwK1",
    "outputId": "31c4a573-5675-4492-e380-6101b2f04f26",
    "papermill": {
     "duration": 0.95469,
     "end_time": "2025-04-18T21:05:22.218576",
     "exception": false,
     "start_time": "2025-04-18T21:05:21.263886",
     "status": "completed"
    },
    "tags": []
   },
   "outputs": [
    {
     "name": "stderr",
     "output_type": "stream",
     "text": [
      "/usr/local/lib/python3.11/dist-packages/sklearn/cluster/_kmeans.py:870: FutureWarning: The default value of `n_init` will change from 10 to 'auto' in 1.4. Set the value of `n_init` explicitly to suppress the warning\n",
      "  warnings.warn(\n"
     ]
    },
    {
     "data": {
      "image/png": "[encoded data removed]",
      "text/plain": [
       "<Figure size 1200x800 with 1 Axes>"
      ]
     },
     "metadata": {},
     "output_type": "display_data"
    }
   ],
   "source": [
    "from sklearn.cluster import KMeans\n",
    "from sklearn.decomposition import PCA\n",
    "\n",
    "# Convert embeddings to numpy array\n",
    "embedding_array = np.array(subset_df['Embedding'].tolist())\n",
    "\n",
    "# Apply K-means clustering\n",
    "n_clusters = 5\n",
    "kmeans = KMeans(n_clusters=n_clusters, random_state=42)\n",
    "subset_df['Cluster'] = kmeans.fit_predict(embedding_array)\n",
    "\n",
    "# Apply PCA for visualization\n",
    "pca = PCA(n_components=2)\n",
    "pca_result = pca.fit_transform(embedding_array)\n",
    "subset_df['PCA1'] = pca_result[:, 0]\n",
    "subset_df['PCA2'] = pca_result[:, 1]\n",
    "\n",
    "# Plot clusters\n",
    "plt.figure(figsize=(12, 8))\n",
    "for cluster in range(n_clusters):\n",
    "    cluster_data = subset_df[subset_df['Cluster'] == cluster]\n",
    "    plt.scatter(cluster_data['PCA1'], cluster_data['PCA2'], label=f'Cluster {cluster}', alpha=0.7)\n",
    "\n",
    "    # Add some transaction descriptions as annotations\n",
    "    for i, (_, row) in enumerate(cluster_data.iterrows()):\n",
    "        if i % 3 == 0:  # Annotate every 3rd point to avoid clutter\n",
    "            plt.annotate(row['Description'],\n",
    "                         (row['PCA1'], row['PCA2']),\n",
    "                         fontsize=8,\n",
    "                         alpha=0.8)\n",
    "\n",
    "plt.title('Transaction Clusters Based on Embeddings')\n",
    "plt.xlabel('PCA Component 1')\n",
    "plt.ylabel('PCA Component 2')\n",
    "plt.legend()\n",
    "plt.grid(alpha=0.3)\n",
    "plt.tight_layout()\n",
    "plt.show()"
   ]
  },
  {
   "cell_type": "markdown",
   "id": "28d556b5",
   "metadata": {
    "id": "ULI_IkqOmwK2",
    "papermill": {
     "duration": 0.013723,
     "end_time": "2025-04-18T21:05:22.246474",
     "exception": false,
     "start_time": "2025-04-18T21:05:22.232751",
     "status": "completed"
    },
    "tags": []
   },
   "source": [
    "Let's analyze each cluster to understand the spending patterns."
   ]
  },
  {
   "cell_type": "code",
   "execution_count": 16,
   "id": "0c99a2f3",
   "metadata": {
    "execution": {
     "iopub.execute_input": "2025-04-18T21:05:22.274932Z",
     "iopub.status.busy": "2025-04-18T21:05:22.274579Z",
     "iopub.status.idle": "2025-04-18T21:05:25.834723Z",
     "shell.execute_reply": "2025-04-18T21:05:25.833671Z"
    },
    "id": "slOaJNTamwK2",
    "outputId": "1450cf9b-adcf-4a83-bef9-b293a05365b9",
    "papermill": {
     "duration": 3.576178,
     "end_time": "2025-04-18T21:05:25.836232",
     "exception": false,
     "start_time": "2025-04-18T21:05:22.260054",
     "status": "completed"
    },
    "tags": []
   },
   "outputs": [
    {
     "name": "stdout",
     "output_type": "stream",
     "text": [
      "\n",
      "Cluster 0 Analysis:\n",
      "Number of transactions: 19\n",
      "Top categories: Utilities, Healthcare, Education\n",
      "Average amount: $-424.44\n",
      "Sample transactions:\n",
      "  - Internet Provider ($217.53, Utilities)\n",
      "  - Car Repair ($10.22, Transportation)\n",
      "  - School Supplies ($259.42, Education)\n",
      "\n",
      "Cluster description: This spending cluster reflects a mix of essential and planned expenses.  It includes significant outlays for education, housing, utilities, and healthcare, along with smaller purchases related to transportation and entertainment.\n",
      "\n",
      "--------------------------------------------------------------------------------\n",
      "\n",
      "Cluster 1 Analysis:\n",
      "Number of transactions: 12\n",
      "Top categories: Shopping, Groceries, Entertainment\n",
      "Average amount: $-176.60\n",
      "Sample transactions:\n",
      "  - Whole Foods ($162.33, Groceries)\n",
      "  - Target ($108.10, Groceries)\n",
      "  - Macy's ($129.19, Shopping)\n",
      "\n",
      "Cluster description: This spending cluster indicates a mix of grocery shopping, significant home improvement purchases, and retail shopping, potentially for home projects and personal items. There's also a notable purchase from Nike and a subscription to Hulu.\n",
      "\n",
      "--------------------------------------------------------------------------------\n",
      "\n",
      "Cluster 2 Analysis:\n",
      "Number of transactions: 4\n",
      "Top categories: Income\n",
      "Average amount: $3081.93\n",
      "Sample transactions:\n",
      "  - Investment Dividend ($2586.62, Income)\n",
      "  - Freelance Payment ($2700.56, Income)\n",
      "  - Gift ($4162.96, Income)\n",
      "\n",
      "Cluster description: This spending cluster represents a period of significant income, primarily driven by investment earnings, freelance work, gifts, and a tax refund. The transactions indicate a notable influx of funds from various sources during this time.\n",
      "\n",
      "--------------------------------------------------------------------------------\n",
      "\n",
      "Cluster 3 Analysis:\n",
      "Number of transactions: 8\n",
      "Top categories: Dining, Transportation, Entertainment\n",
      "Average amount: $-41.02\n",
      "Sample transactions:\n",
      "  - Subway ($54.26, Dining)\n",
      "  - Pizza Hut ($78.80, Dining)\n",
      "  - McDonald's ($11.89, Dining)\n",
      "\n",
      "Cluster description: This spending cluster suggests a combination of eating out and entertainment, with a heavy emphasis on dining. The transactions indicate frequent meals at various fast-food and restaurant establishments, along with a movie theater visit and transportation via Uber.\n",
      "\n",
      "--------------------------------------------------------------------------------\n",
      "\n",
      "Cluster 4 Analysis:\n",
      "Number of transactions: 7\n",
      "Top categories: Healthcare\n",
      "Average amount: $-238.59\n",
      "Sample transactions:\n",
      "  - Doctor Visit ($380.23, Healthcare)\n",
      "  - Doctor Visit ($151.01, Healthcare)\n",
      "  - Dental Checkup ($167.18, Healthcare)\n",
      "\n",
      "Cluster description: This spending cluster represents significant expenditures on healthcare, primarily consisting of multiple doctor visits and dental checkups. These transactions suggest a period of focused healthcare utilization.\n",
      "\n",
      "--------------------------------------------------------------------------------\n"
     ]
    }
   ],
   "source": [
    "# Analyze clusters\n",
    "for cluster in range(n_clusters):\n",
    "    cluster_data = subset_df[subset_df['Cluster'] == cluster]\n",
    "\n",
    "    print(f\"\\nCluster {cluster} Analysis:\")\n",
    "    print(f\"Number of transactions: {len(cluster_data)}\")\n",
    "\n",
    "    # Category distribution\n",
    "    category_counts = cluster_data['Category'].value_counts()\n",
    "    print(f\"Top categories: {', '.join(category_counts.index[:3])}\")\n",
    "\n",
    "    # Average amount\n",
    "    avg_amount = cluster_data['Amount'].mean()\n",
    "    print(f\"Average amount: ${avg_amount:.2f}\")\n",
    "\n",
    "    # Sample transactions\n",
    "    print(\"Sample transactions:\")\n",
    "    for _, row in cluster_data.head(3).iterrows():\n",
    "        print(f\"  - {row['Description']} (${abs(row['Amount']):.2f}, {row['Category']})\")\n",
    "\n",
    "    # Generate a cluster description using Gemini\n",
    "    cluster_text = \"\\n\".join([f\"{row['Description']} - ${abs(row['Amount']):.2f} - {row['Category']}\"\n",
    "                             for _, row in cluster_data.iterrows()])\n",
    "\n",
    "    prompt = f\"\"\"\n",
    "    Analyze these transactions and provide a brief 1-2 sentence description of this spending cluster:\n",
    "    {cluster_text}\n",
    "    \"\"\"\n",
    "\n",
    "    response = model.generate_content(prompt)\n",
    "    print(f\"\\nCluster description: {response.text}\")\n",
    "    print(\"-\" * 80)"
   ]
  },
  {
   "cell_type": "markdown",
   "id": "21a41f0f",
   "metadata": {
    "id": "BG0KJkZBmwK2",
    "papermill": {
     "duration": 0.013449,
     "end_time": "2025-04-18T21:05:25.863368",
     "exception": false,
     "start_time": "2025-04-18T21:05:25.849919",
     "status": "completed"
    },
    "tags": []
   },
   "source": [
    "## 4. Capability 3: RAG for Financial Knowledge\n",
    "\n",
    "Let's implement a Retrieval Augmented Generation (RAG) system to provide evidence-based financial advice."
   ]
  },
  {
   "cell_type": "code",
   "execution_count": 17,
   "id": "79148ed0",
   "metadata": {
    "execution": {
     "iopub.execute_input": "2025-04-18T21:05:25.894974Z",
     "iopub.status.busy": "2025-04-18T21:05:25.894106Z",
     "iopub.status.idle": "2025-04-18T21:05:25.899715Z",
     "shell.execute_reply": "2025-04-18T21:05:25.898852Z"
    },
    "id": "Czet5UgPmwK3",
    "papermill": {
     "duration": 0.02209,
     "end_time": "2025-04-18T21:05:25.901232",
     "exception": false,
     "start_time": "2025-04-18T21:05:25.879142",
     "status": "completed"
    },
    "tags": []
   },
   "outputs": [],
   "source": [
    "# Create a knowledge base of financial advice\n",
    "financial_knowledge = [\n",
    "    \"The 50/30/20 rule suggests allocating 50% of your income to needs, 30% to wants, and 20% to savings and debt repayment.\",\n",
    "    \"An emergency fund should ideally cover 3-6 months of essential expenses.\",\n",
    "    \"High-interest debt, such as credit card debt, should be prioritized for repayment before investing.\",\n",
    "    \"Dollar-cost averaging is an investment strategy where you invest a fixed amount regularly, regardless of market conditions.\",\n",
    "    \"A good credit score (above 700) can help you qualify for better interest rates on loans and credit cards.\",\n",
    "    \"Diversification in investments helps reduce risk by spreading your money across different asset classes.\",\n",
    "    \"Tax-advantaged accounts like 401(k)s and IRAs can help you save for retirement while reducing your tax burden.\",\n",
    "    \"Compound interest is the addition of interest to the principal sum of a loan or deposit, resulting in interest earned on interest.\",\n",
    "    \"Inflation erodes the purchasing power of money over time, which is why investing is important for long-term financial goals.\",\n",
    "    \"A budget is a financial plan that helps you track income and expenses, ensuring you live within your means.\",\n",
    "    \"Automating savings and bill payments can help ensure financial consistency and avoid late fees.\",\n",
    "    \"The rule of 72 is a simple way to determine how long it will take for an investment to double: divide 72 by the annual rate of return.\",\n",
    "    \"Paying yourself first means automatically setting aside a portion of your income for savings before spending on other expenses.\",\n",
    "    \"A debt-to-income ratio below 36% is generally considered good for financial health.\",\n",
    "    \"Lifestyle inflation occurs when spending increases with income, preventing wealth accumulation despite higher earnings.\",\n",
    "    \"Renting can be financially advantageous in certain situations, such as when housing prices are high or when you need flexibility.\",\n",
    "    \"Term life insurance is generally more cost-effective than whole life insurance for most people's needs.\",\n",
    "    \"A health savings account (HSA) offers triple tax advantages: tax-deductible contributions, tax-free growth, and tax-free withdrawals for qualified medical expenses.\",\n",
    "    \"The 4% rule suggests that retirees can withdraw 4% of their retirement savings in the first year, then adjust for inflation each year, with a high probability of not running out of money for at least 30 years.\",\n",
    "    \"Zero-based budgeting means allocating every dollar of income to a specific purpose, whether spending, saving, or investing.\"\n",
    "]"
   ]
  },
  {
   "cell_type": "code",
   "execution_count": 18,
   "id": "07819bb0",
   "metadata": {
    "execution": {
     "iopub.execute_input": "2025-04-18T21:05:25.929753Z",
     "iopub.status.busy": "2025-04-18T21:05:25.929419Z",
     "iopub.status.idle": "2025-04-18T21:05:32.803711Z",
     "shell.execute_reply": "2025-04-18T21:05:32.802718Z"
    },
    "id": "1jBr1bW8mwK3",
    "outputId": "e2f4f764-9722-4f58-ab7c-3ff286a56cbb",
    "papermill": {
     "duration": 6.89028,
     "end_time": "2025-04-18T21:05:32.805233",
     "exception": false,
     "start_time": "2025-04-18T21:05:25.914953",
     "status": "completed"
    },
    "tags": []
   },
   "outputs": [
    {
     "name": "stdout",
     "output_type": "stream",
     "text": [
      "No existing collection to delete: Collection financial_knowledge does not exist.\n",
      "Created new collection\n",
      "Added 20 documents to collection\n"
     ]
    }
   ],
   "source": [
    "import chromadb\n",
    "from chromadb.api import EmbeddingFunction\n",
    "\n",
    "# Create a ChromaDB client\n",
    "client = chromadb.Client()\n",
    "\n",
    "# Create a custom embedding function class\n",
    "class GenaiEmbeddingFunction(EmbeddingFunction):\n",
    "    def __call__(self, input):\n",
    "        embeddings = []\n",
    "        for text in input:\n",
    "            embedding = get_embedding(text)\n",
    "            embeddings.append(embedding)\n",
    "        return embeddings\n",
    "\n",
    "# Force a clean start by deleting the collection if it exists\n",
    "try:\n",
    "    client.delete_collection(name=\"financial_knowledge\")\n",
    "    print(\"Deleted existing collection\")\n",
    "except Exception as e:\n",
    "    print(f\"No existing collection to delete: {str(e)}\")\n",
    "\n",
    "# Create a fresh collection\n",
    "financial_collection = client.create_collection(\n",
    "    name=\"financial_knowledge\",\n",
    "    embedding_function=GenaiEmbeddingFunction()\n",
    ")\n",
    "print(\"Created new collection\")\n",
    "\n",
    "# Add documents to the collection\n",
    "financial_collection.add(\n",
    "    documents=financial_knowledge,\n",
    "    ids=[f\"doc_{i}\" for i in range(len(financial_knowledge))]\n",
    ")\n",
    "print(f\"Added {len(financial_knowledge)} documents to collection\")\n",
    "\n"
   ]
  },
  {
   "cell_type": "code",
   "execution_count": 19,
   "id": "5ce936d8",
   "metadata": {
    "execution": {
     "iopub.execute_input": "2025-04-18T21:05:32.834116Z",
     "iopub.status.busy": "2025-04-18T21:05:32.833368Z",
     "iopub.status.idle": "2025-04-18T21:05:32.839002Z",
     "shell.execute_reply": "2025-04-18T21:05:32.838144Z"
    },
    "id": "1MExigc0mwK3",
    "papermill": {
     "duration": 0.021388,
     "end_time": "2025-04-18T21:05:32.840376",
     "exception": false,
     "start_time": "2025-04-18T21:05:32.818988",
     "status": "completed"
    },
    "tags": []
   },
   "outputs": [],
   "source": [
    "# Function to get financial advice with RAG\n",
    "def get_financial_advice_with_rag(query, num_results=3):\n",
    "    # Query the knowledge base\n",
    "    results = financial_collection.query(\n",
    "        query_texts=[query],\n",
    "        n_results=num_results\n",
    "    )\n",
    "\n",
    "    # Extract relevant documents\n",
    "    relevant_docs = results['documents'][0]\n",
    "\n",
    "    # Create a prompt with the retrieved information\n",
    "    # Fix: Use proper multi-line f-string without backslashes\n",
    "    prompt = f\"\"\"\n",
    "    You are a financial advisor providing evidence-based advice. Use the following financial knowledge to answer the question:\n",
    "\n",
    "    FINANCIAL KNOWLEDGE:\n",
    "    {chr(10).join([f\"- {doc}\" for doc in relevant_docs])}\n",
    "\n",
    "    USER QUESTION: {query}\n",
    "\n",
    "    Provide a helpful, informative response that directly addresses the question. Include specific advice from the knowledge base and explain why it's relevant. Format your response in markdown.\n",
    "    \"\"\"\n",
    "\n",
    "    # Generate response\n",
    "    response = model.generate_content(prompt)\n",
    "\n",
    "    return {\n",
    "        'response': response.text,\n",
    "        'sources': relevant_docs\n",
    "    }\n"
   ]
  },
  {
   "cell_type": "code",
   "execution_count": 20,
   "id": "6b20d293",
   "metadata": {
    "execution": {
     "iopub.execute_input": "2025-04-18T21:05:32.869195Z",
     "iopub.status.busy": "2025-04-18T21:05:32.868493Z",
     "iopub.status.idle": "2025-04-18T21:05:43.572970Z",
     "shell.execute_reply": "2025-04-18T21:05:43.572071Z"
    },
    "id": "FfcNL7iYmwK4",
    "outputId": "9d5f6efa-f15b-4fda-ef20-fa381e60f388",
    "papermill": {
     "duration": 10.720534,
     "end_time": "2025-04-18T21:05:43.574648",
     "exception": false,
     "start_time": "2025-04-18T21:05:32.854114",
     "status": "completed"
    },
    "tags": []
   },
   "outputs": [
    {
     "name": "stdout",
     "output_type": "stream",
     "text": [
      "Question: How should I allocate my monthly income?\n",
      "\n",
      "Response:\n"
     ]
    },
    {
     "data": {
      "text/markdown": [
       "Okay, here's some advice on how to allocate your monthly income, based on financial best practices:\n",
       "\n",
       "To effectively manage your monthly income, I recommend using a combination of budgeting techniques.  Specifically, let's incorporate both zero-based budgeting and the 50/30/20 rule.\n",
       "\n",
       "**1. Start with a Budget (and the 50/30/20 Rule as a Guide)**\n",
       "\n",
       "*   **Why this is relevant:** A budget is the foundation of good financial planning. It helps you track where your money goes, which is crucial for making informed decisions. The 50/30/20 rule provides a simple framework to guide your allocation.\n",
       "*   **How to implement:**\n",
       "    *   **Calculate your Net Income:** First, determine your total monthly income *after* taxes and other deductions.\n",
       "    *   **Apply the 50/30/20 Rule:**\n",
       "        *   **50% for Needs:** This covers essential expenses like housing (rent/mortgage), utilities, groceries, transportation, and necessary insurance.\n",
       "        *   **30% for Wants:** This includes non-essential spending like entertainment, dining out, subscriptions, and hobbies.\n",
       "        *   **20% for Savings and Debt Repayment:** This is dedicated to building your financial future! It covers savings (emergency fund, retirement, specific goals) and paying down any debt (credit cards, loans).\n",
       "\n",
       "**2. Implement Zero-Based Budgeting**\n",
       "\n",
       "*   **Why this is relevant:**  Zero-based budgeting ensures every dollar has a purpose, preventing money from \"disappearing\" without your knowledge. This helps maximize your allocation toward your goals.\n",
       "*   **How to implement:**\n",
       "    *   **Categorize Expenses:** List all your monthly income sources and then meticulously list all your expenses.  Be as specific as possible (e.g., \"Groceries - $400\" instead of just \"Groceries\").\n",
       "    *   **Allocate Every Dollar:** Subtract all your planned expenses from your monthly income. The goal is for the remainder to be zero (or close to it). If you have money left over, it means you can either allocate more to savings/debt repayment or to other desired categories. If your expenses exceed your income, you need to reduce spending or find ways to increase your income.\n",
       "    *   **Track and Adjust:** Regularly (weekly or monthly) track your actual spending against your budget. You'll likely need to make adjustments as you learn your spending patterns. This is perfectly normal!\n",
       "\n",
       "**Putting it all Together:**\n",
       "\n",
       "1.  **Start by calculating your net monthly income.**\n",
       "2.  **Use the 50/30/20 rule as a *starting point*.**  For example, if your net monthly income is $4,000:\n",
       "    *   $2,000 (50%) would be allocated to needs.\n",
       "    *   $1,200 (30%) would be allocated to wants.\n",
       "    *   $800 (20%) would be allocated to savings and debt repayment.\n",
       "3.  **Then, use the zero-based budgeting process to detail how you'll spend those amounts.** For instance, within the $2,000 for needs, you'd allocate specific amounts to rent, utilities, groceries, etc.\n",
       "4.  **Track your spending and adjust your budget regularly.**  This might involve moving money between categories as needed.\n",
       "\n",
       "By using this combined approach, you'll be well on your way to controlling your finances, reaching your financial goals, and achieving financial stability. Remember, the key is consistency and regular review! Good luck!\n"
      ],
      "text/plain": [
       "<IPython.core.display.Markdown object>"
      ]
     },
     "metadata": {},
     "output_type": "display_data"
    },
    {
     "name": "stdout",
     "output_type": "stream",
     "text": [
      "\n",
      "Sources:\n",
      "1. Zero-based budgeting means allocating every dollar of income to a specific purpose, whether spending, saving, or investing.\n",
      "2. A budget is a financial plan that helps you track income and expenses, ensuring you live within your means.\n",
      "3. The 50/30/20 rule suggests allocating 50% of your income to needs, 30% to wants, and 20% to savings and debt repayment.\n",
      "\n",
      "--------------------------------------------------------------------------------\n",
      "\n",
      "Question: What's the best way to save for emergencies?\n",
      "\n",
      "Response:\n"
     ]
    },
    {
     "data": {
      "text/markdown": [
       "The best way to save for emergencies is to build a dedicated emergency fund. Here's how:\n",
       "\n",
       "*   **Determine Your Goal:** Aim to save 3-6 months' worth of your essential living expenses. This amount should cover things like housing, food, utilities, transportation, and insurance. This is crucial because it provides a financial cushion to handle unexpected job loss, major medical bills, or urgent home repairs.\n",
       "*   **Automate Your Savings:** Set up automatic transfers from your checking account to a high-yield savings account specifically for your emergency fund. This ensures you're consistently saving without having to actively remember to do it each month. This habit helps you build the fund steadily and prevents you from accidentally using the money for non-emergency purposes.\n",
       "*   **Keep it Liquid and Accessible:** Your emergency fund should be easily accessible. While you want it to earn a little interest, the priority is having the money available when you need it. A high-yield savings account at a reputable bank or credit union is a good option. Avoid investing this money in volatile assets, as you may not want to face a market downturn when you need to access the funds.\n"
      ],
      "text/plain": [
       "<IPython.core.display.Markdown object>"
      ]
     },
     "metadata": {},
     "output_type": "display_data"
    },
    {
     "name": "stdout",
     "output_type": "stream",
     "text": [
      "\n",
      "Sources:\n",
      "1. An emergency fund should ideally cover 3-6 months of essential expenses.\n",
      "2. Automating savings and bill payments can help ensure financial consistency and avoid late fees.\n",
      "3. Diversification in investments helps reduce risk by spreading your money across different asset classes.\n",
      "\n",
      "--------------------------------------------------------------------------------\n",
      "\n",
      "Question: Should I pay off debt or invest first?\n",
      "\n",
      "Response:\n"
     ]
    },
    {
     "data": {
      "text/markdown": [
       "You should prioritize paying off high-interest debt before investing. This is because the interest rates on debts like credit cards are often significantly higher than the average returns you can expect from investments in the short term.\n",
       "\n",
       "Here's why and how to approach it:\n",
       "\n",
       "*   **Debt Repayment First:** The financial knowledge you provided states that high-interest debt should be a priority. This is because the interest you pay on debt is essentially a guaranteed loss. Paying down this debt frees up more of your money in the long run.\n",
       "*   **The 50/30/20 Rule:** If you are carrying high-interest debt, consider utilizing the 50/30/20 rule. Focus on allocating 20% of your income toward paying down debt until it is gone.\n",
       "*   **Investing for the Long Term:** Once you've tackled your high-interest debt, you can start investing. Investing helps you grow your wealth over time and combat inflation.\n"
      ],
      "text/plain": [
       "<IPython.core.display.Markdown object>"
      ]
     },
     "metadata": {},
     "output_type": "display_data"
    },
    {
     "name": "stdout",
     "output_type": "stream",
     "text": [
      "\n",
      "Sources:\n",
      "1. High-interest debt, such as credit card debt, should be prioritized for repayment before investing.\n",
      "2. The 50/30/20 rule suggests allocating 50% of your income to needs, 30% to wants, and 20% to savings and debt repayment.\n",
      "3. Inflation erodes the purchasing power of money over time, which is why investing is important for long-term financial goals.\n",
      "\n",
      "--------------------------------------------------------------------------------\n",
      "\n"
     ]
    }
   ],
   "source": [
    "# Test the RAG system with some financial questions\n",
    "financial_questions = [\n",
    "    \"How should I allocate my monthly income?\",\n",
    "    \"What's the best way to save for emergencies?\",\n",
    "    \"Should I pay off debt or invest first?\"\n",
    "]\n",
    "\n",
    "for question in financial_questions:\n",
    "    print(f\"Question: {question}\\n\")\n",
    "\n",
    "    result = get_financial_advice_with_rag(question)\n",
    "\n",
    "    print(\"Response:\")\n",
    "    display(Markdown(result['response']))\n",
    "\n",
    "    print(\"\\nSources:\")\n",
    "    for i, source in enumerate(result['sources'], 1):\n",
    "        print(f\"{i}. {source}\")\n",
    "\n",
    "    print(\"\\n\" + \"-\"*80 + \"\\n\")"
   ]
  },
  {
   "cell_type": "markdown",
   "id": "60959405",
   "metadata": {
    "id": "ca2712QymwK4",
    "papermill": {
     "duration": 0.01414,
     "end_time": "2025-04-18T21:05:43.609099",
     "exception": false,
     "start_time": "2025-04-18T21:05:43.594959",
     "status": "completed"
    },
    "tags": []
   },
   "source": [
    "## 5. Capability 4: Function Calling for Financial Calculations\n",
    "\n",
    "Let's implement function calling to perform financial calculations based on user queries."
   ]
  },
  {
   "cell_type": "code",
   "execution_count": 21,
   "id": "eae682b4",
   "metadata": {
    "execution": {
     "iopub.execute_input": "2025-04-18T21:05:43.639788Z",
     "iopub.status.busy": "2025-04-18T21:05:43.639403Z",
     "iopub.status.idle": "2025-04-18T21:05:43.654036Z",
     "shell.execute_reply": "2025-04-18T21:05:43.653074Z"
    },
    "id": "Tt6Oy5jWmwK4",
    "papermill": {
     "duration": 0.032459,
     "end_time": "2025-04-18T21:05:43.656053",
     "exception": false,
     "start_time": "2025-04-18T21:05:43.623594",
     "status": "completed"
    },
    "tags": []
   },
   "outputs": [],
   "source": [
    "# Define financial calculation functions\n",
    "def calculate_budget_allocation(monthly_income):\n",
    "    \"\"\"Calculate budget allocation based on the 50/30/20 rule.\"\"\"\n",
    "    needs = monthly_income * 0.5\n",
    "    wants = monthly_income * 0.3\n",
    "    savings = monthly_income * 0.2\n",
    "    return {\n",
    "        \"needs\": needs,\n",
    "        \"wants\": wants,\n",
    "        \"savings\": savings\n",
    "    }\n",
    "\n",
    "def calculate_emergency_fund(monthly_expenses, months=6):\n",
    "    \"\"\"Calculate recommended emergency fund amount.\"\"\"\n",
    "    return monthly_expenses * months\n",
    "\n",
    "def calculate_debt_payoff(principal, annual_interest_rate, monthly_payment):\n",
    "    \"\"\"Calculate time to pay off debt and total interest paid.\"\"\"\n",
    "    monthly_rate = annual_interest_rate / 12 / 100\n",
    "    num_payments = 0\n",
    "    total_interest = 0\n",
    "    remaining_balance = principal\n",
    "\n",
    "    while remaining_balance > 0:\n",
    "        interest = remaining_balance * monthly_rate\n",
    "        principal_payment = min(monthly_payment - interest, remaining_balance)\n",
    "\n",
    "        if monthly_payment <= interest:\n",
    "            return {\n",
    "                \"months\": float('inf'),\n",
    "                \"years\": float('inf'),\n",
    "                \"total_interest\": float('inf'),\n",
    "                \"error\": \"Monthly payment too low to cover interest\"\n",
    "            }\n",
    "\n",
    "        remaining_balance -= principal_payment\n",
    "        total_interest += interest\n",
    "        num_payments += 1\n",
    "\n",
    "        if num_payments > 1200:  # 100 years cap\n",
    "            break\n",
    "\n",
    "    return {\n",
    "        \"months\": num_payments,\n",
    "        \"years\": num_payments / 12,\n",
    "        \"total_interest\": total_interest\n",
    "    }\n",
    "\n",
    "def calculate_investment_growth(principal, annual_return, years, monthly_contribution=0):\n",
    "    \"\"\"Calculate investment growth over time.\"\"\"\n",
    "    monthly_rate = annual_return / 12 / 100\n",
    "    num_months = years * 12\n",
    "    value = principal\n",
    "\n",
    "    for _ in range(int(num_months)):\n",
    "        value = value * (1 + monthly_rate) + monthly_contribution\n",
    "\n",
    "    return {\n",
    "        \"final_value\": value,\n",
    "        \"initial_investment\": principal,\n",
    "        \"total_contributions\": monthly_contribution * num_months,\n",
    "        \"interest_earned\": value - principal - (monthly_contribution * num_months)\n",
    "    }\n",
    "\n",
    "def calculate_loan_payment(principal, annual_interest_rate, years):\n",
    "    \"\"\"Calculate monthly payment for a loan.\"\"\"\n",
    "    monthly_rate = annual_interest_rate / 12 / 100\n",
    "    num_payments = years * 12\n",
    "\n",
    "    if monthly_rate == 0:\n",
    "        monthly_payment = principal / num_payments\n",
    "    else:\n",
    "        monthly_payment = principal * (monthly_rate * (1 + monthly_rate) ** num_payments) / ((1 + monthly_rate) ** num_payments - 1)\n",
    "\n",
    "    total_cost = monthly_payment * num_payments\n",
    "    total_interest = total_cost - principal\n",
    "\n",
    "    return {\n",
    "        \"monthly_payment\": monthly_payment,\n",
    "        \"total_cost\": total_cost,\n",
    "        \"total_interest\": total_interest\n",
    "    }"
   ]
  },
  {
   "cell_type": "code",
   "execution_count": 22,
   "id": "e5b6702f",
   "metadata": {
    "execution": {
     "iopub.execute_input": "2025-04-18T21:05:43.686664Z",
     "iopub.status.busy": "2025-04-18T21:05:43.686295Z",
     "iopub.status.idle": "2025-04-18T21:05:43.698707Z",
     "shell.execute_reply": "2025-04-18T21:05:43.697862Z"
    },
    "id": "XI64Rm1-mwK4",
    "papermill": {
     "duration": 0.029828,
     "end_time": "2025-04-18T21:05:43.700494",
     "exception": false,
     "start_time": "2025-04-18T21:05:43.670666",
     "status": "completed"
    },
    "tags": []
   },
   "outputs": [],
   "source": [
    "# Function to parse user queries and call the appropriate financial function\n",
    "def financial_calculator(query):\n",
    "    # For google-genai, we need to use a different approach for function calling\n",
    "    # We'll use a prompt to have the model determine which function to call and with what parameters\n",
    "\n",
    "    function_descriptions = \"\"\"\n",
    "    Available financial calculation functions:\n",
    "\n",
    "    1. calculate_budget_allocation(monthly_income: float) -> dict\n",
    "       - Calculates budget allocation based on the 50/30/20 rule\n",
    "       - Returns: {\"needs\": float, \"wants\": float, \"savings\": float}\n",
    "\n",
    "    2. calculate_emergency_fund(monthly_expenses: float, months: int = 6) -> float\n",
    "       - Calculates recommended emergency fund amount\n",
    "       - Returns: total emergency fund amount\n",
    "\n",
    "    3. calculate_debt_payoff(principal: float, annual_interest_rate: float, monthly_payment: float) -> dict\n",
    "       - Calculates time to pay off debt and total interest paid\n",
    "       - Returns: {\"months\": int, \"years\": float, \"total_interest\": float}\n",
    "\n",
    "    4. calculate_investment_growth(principal: float, annual_return: float, years: int, monthly_contribution: float = 0) -> dict\n",
    "       - Calculates investment growth over time\n",
    "       - Returns: {\"final_value\": float, \"initial_investment\": float, \"total_contributions\": float, \"interest_earned\": float}\n",
    "\n",
    "    5. calculate_loan_payment(principal: float, annual_interest_rate: float, years: int) -> dict\n",
    "       - Calculates monthly payment for a loan\n",
    "       - Returns: {\"monthly_payment\": float, \"total_cost\": float, \"total_interest\": float}\n",
    "    \"\"\"\n",
    "\n",
    "    prompt = f\"\"\"\n",
    "    You are a financial calculator assistant. Based on the user's query, determine which financial function to call and extract the necessary parameters.\n",
    "\n",
    "    {function_descriptions}\n",
    "\n",
    "    User query: {query}\n",
    "\n",
    "    Respond with a JSON object containing:\n",
    "    1. \"function_name\": The name of the function to call\n",
    "    2. \"parameters\": An object containing the parameter values\n",
    "    3. \"explanation\": A brief explanation of why this function is appropriate\n",
    "\n",
    "    Only include numeric values for parameters, no text or symbols like $ or %.\n",
    "    \"\"\"\n",
    "\n",
    "    response = model.generate_content(prompt)\n",
    "\n",
    "    try:\n",
    "        # Extract JSON from the response\n",
    "        response_text = response.text\n",
    "        json_start = response_text.find('{')\n",
    "        json_end = response_text.rfind('}')\n",
    "        if json_start != -1 and json_end != -1:\n",
    "            json_str = response_text[json_start:json_end+1]\n",
    "            function_call = json.loads(json_str)\n",
    "\n",
    "            # Call the appropriate function\n",
    "            function_name = function_call['function_name']\n",
    "            parameters = function_call['parameters']\n",
    "            explanation = function_call['explanation']\n",
    "\n",
    "            if function_name == 'calculate_budget_allocation':\n",
    "                result = calculate_budget_allocation(**parameters)\n",
    "            elif function_name == 'calculate_emergency_fund':\n",
    "                result = calculate_emergency_fund(**parameters)\n",
    "            elif function_name == 'calculate_debt_payoff':\n",
    "                result = calculate_debt_payoff(**parameters)\n",
    "            elif function_name == 'calculate_investment_growth':\n",
    "                result = calculate_investment_growth(**parameters)\n",
    "            elif function_name == 'calculate_loan_payment':\n",
    "                result = calculate_loan_payment(**parameters)\n",
    "            else:\n",
    "                return {\n",
    "                    'error': f\"Unknown function: {function_name}\",\n",
    "                    'function_call': function_call\n",
    "                }\n",
    "\n",
    "            return {\n",
    "                'function_name': function_name,\n",
    "                'parameters': parameters,\n",
    "                'result': result,\n",
    "                'explanation': explanation\n",
    "            }\n",
    "        else:\n",
    "            return {\n",
    "                'error': \"Could not parse function call from response\",\n",
    "                'response': response_text\n",
    "            }\n",
    "    except Exception as e:\n",
    "        return {\n",
    "            'error': str(e),\n",
    "            'response': response.text\n",
    "        }"
   ]
  },
  {
   "cell_type": "code",
   "execution_count": 23,
   "id": "fdf3f597",
   "metadata": {
    "execution": {
     "iopub.execute_input": "2025-04-18T21:05:43.737207Z",
     "iopub.status.busy": "2025-04-18T21:05:43.736296Z",
     "iopub.status.idle": "2025-04-18T21:05:48.448734Z",
     "shell.execute_reply": "2025-04-18T21:05:48.447948Z"
    },
    "id": "N9y22qHtmwK5",
    "outputId": "51a7d821-3cc9-4065-d219-c7f5d54a7c3b",
    "papermill": {
     "duration": 4.730693,
     "end_time": "2025-04-18T21:05:48.450809",
     "exception": false,
     "start_time": "2025-04-18T21:05:43.720116",
     "status": "completed"
    },
    "tags": []
   },
   "outputs": [
    {
     "name": "stdout",
     "output_type": "stream",
     "text": [
      "Query: How should I budget my $5000 monthly income?\n",
      "\n",
      "Function: calculate_budget_allocation\n",
      "Parameters: {'monthly_income': 5000}\n",
      "Explanation: The user is asking for budgeting advice based on their monthly income. The calculate_budget_allocation function uses the 50/30/20 rule to determine how to allocate the income.\n",
      "\n",
      "Result:\n",
      "  needs: $2500.00\n",
      "  wants: $1500.00\n",
      "  savings: $1000.00\n",
      "\n",
      "--------------------------------------------------------------------------------\n",
      "\n",
      "Query: How much emergency fund do I need if my monthly expenses are $3000?\n",
      "\n",
      "Function: calculate_emergency_fund\n",
      "Parameters: {'monthly_expenses': 3000}\n",
      "Explanation: The query asks for the amount needed for an emergency fund, which is calculated based on monthly expenses.\n",
      "\n",
      "Result:\n",
      "  $18000.00\n",
      "\n",
      "--------------------------------------------------------------------------------\n",
      "\n",
      "Query: How long will it take to pay off $10000 credit card debt with 18% interest if I pay $500 monthly?\n",
      "\n",
      "Function: calculate_debt_payoff\n",
      "Parameters: {'principal': 10000.0, 'annual_interest_rate': 0.18, 'monthly_payment': 500.0}\n",
      "Explanation: The user is asking about paying off debt, specifically a credit card. The `calculate_debt_payoff` function is designed to determine the time and interest associated with debt repayment, given the principal, interest rate, and monthly payment.\n",
      "\n",
      "Result:\n",
      "  months: 21\n",
      "  years: $1.75\n",
      "  total_interest: $15.78\n",
      "\n",
      "--------------------------------------------------------------------------------\n",
      "\n",
      "Query: If I invest $10000 with 8% annual return for 20 years, how much will I have?\n",
      "\n",
      "Function: calculate_investment_growth\n",
      "Parameters: {'principal': 10000.0, 'annual_return': 0.08, 'years': 20, 'monthly_contribution': 0.0}\n",
      "Explanation: The query asks to calculate the future value of an investment given the principal, annual return, and time period. This corresponds to the investment growth calculation function.\n",
      "\n",
      "Result:\n",
      "  final_value: $10161.28\n",
      "  initial_investment: $10000.00\n",
      "  total_contributions: $0.00\n",
      "  interest_earned: $161.28\n",
      "\n",
      "--------------------------------------------------------------------------------\n",
      "\n",
      "Query: What would be my monthly payment for a $300000 mortgage at 4.5% interest for 30 years?\n",
      "\n",
      "Function: calculate_loan_payment\n",
      "Parameters: {'principal': 300000, 'annual_interest_rate': 0.045, 'years': 30}\n",
      "Explanation: The user is asking to calculate the monthly payment for a mortgage, which is a type of loan. The calculate_loan_payment function is designed to calculate this.\n",
      "\n",
      "Result:\n",
      "  monthly_payment: $838.99\n",
      "  total_cost: $302035.18\n",
      "  total_interest: $2035.18\n",
      "\n",
      "--------------------------------------------------------------------------------\n",
      "\n"
     ]
    }
   ],
   "source": [
    "\n",
    "# Test the financial calculator with some queries\n",
    "financial_queries = [\n",
    "    \"How should I budget my $5000 monthly income?\",\n",
    "    \"How much emergency fund do I need if my monthly expenses are $3000?\",\n",
    "    \"How long will it take to pay off $10000 credit card debt with 18% interest if I pay $500 monthly?\",\n",
    "    \"If I invest $10000 with 8% annual return for 20 years, how much will I have?\",\n",
    "    \"What would be my monthly payment for a $300000 mortgage at 4.5% interest for 30 years?\"\n",
    "]\n",
    "\n",
    "for query in financial_queries:\n",
    "    print(f\"Query: {query}\\n\")\n",
    "\n",
    "    result = financial_calculator(query)\n",
    "\n",
    "    if 'error' in result and 'function_call' not in result:\n",
    "        print(f\"Error: {result['error']}\")\n",
    "        if 'response' in result:\n",
    "            print(f\"Response: {result['response']}\")\n",
    "    else:\n",
    "        print(f\"Function: {result['function_name']}\")\n",
    "        print(f\"Parameters: {result['parameters']}\")\n",
    "        print(f\"Explanation: {result['explanation']}\")\n",
    "        print(\"\\nResult:\")\n",
    "\n",
    "        # Fix: Check the type of result['result'] before trying to iterate\n",
    "        if isinstance(result['result'], dict):\n",
    "            # If result is a dictionary, iterate through its items\n",
    "            for key, value in result['result'].items():\n",
    "                if isinstance(value, float):\n",
    "                    print(f\"  {key}: ${value:.2f}\")\n",
    "                else:\n",
    "                    print(f\"  {key}: {value}\")\n",
    "        elif isinstance(result['result'], (int, float)):\n",
    "            # If result is a number, print it directly\n",
    "            print(f\"  ${result['result']:.2f}\")\n",
    "        else:\n",
    "            # If result is any other type (like string), print it as is\n",
    "            print(f\"  {result['result']}\")\n",
    "\n",
    "    print(\"\\n\" + \"-\"*80 + \"\\n\")\n"
   ]
  },
  {
   "cell_type": "markdown",
   "id": "0c68130b",
   "metadata": {
    "id": "zOkU4yPOmwLB",
    "papermill": {
     "duration": 0.014705,
     "end_time": "2025-04-18T21:05:48.481932",
     "exception": false,
     "start_time": "2025-04-18T21:05:48.467227",
     "status": "completed"
    },
    "tags": []
   },
   "source": [
    "## Conclusion\n",
    "\n",
    "In this project, I've built FinGenius, an AI-powered personal finance advisor that demonstrates multiple Gen AI capabilities:\n",
    "\n",
    "1. **Structured Output/JSON Mode**: I used structured output to categorize financial transactions and extract financial information in a consistent format.\n",
    "\n",
    "2. **Embeddings**: I leveraged embeddings to find similar transactions and cluster spending patterns, providing insights into financial behavior.\n",
    "\n",
    "3. **RAG (Retrieval Augmented Generation)**: I implemented a knowledge base of financial advice and used RAG to provide evidence-based financial recommendations.\n",
    "\n",
    "4. **Function Calling**: I created financial calculation functions and used function calling to perform calculations based on user queries.\n",
    "\n",
    "\n",
    "### Real-World Applications\n",
    "\n",
    "This project has numerous real-world applications:\n",
    "\n",
    "- **Personal Finance Management**: Helping individuals understand their spending patterns and make better financial decisions.\n",
    "- **Financial Education**: Providing accessible financial knowledge and advice to those without access to professional advisors.\n",
    "- **Banking and Fintech**: Enhancing customer experience with AI-powered financial guidance.\n",
    "- **Financial Inclusion**: Making financial advice accessible to underserved populations.\n",
    "\n",
    "### Limitations and Future Improvements\n",
    "\n",
    "While FinGenius demonstrates powerful capabilities, it has several limitations:\n",
    "\n",
    "1. **Data Privacy and Security**: A production version would need robust security measures for handling sensitive financial data.\n",
    "2. **Regulatory Compliance**: Financial advice is regulated in many jurisdictions, requiring careful implementation.\n",
    "3. **Model Limitations**: The underlying models may not always provide accurate financial advice or calculations.\n",
    "4. **Limited Financial Knowledge**: The knowledge base is small and would need expansion for comprehensive coverage.\n",
    "\n",
    "Future improvements could include:\n",
    "\n",
    "- Integration with real financial data sources (banks, credit cards, investment accounts)\n",
    "- More sophisticated financial planning algorithms\n",
    "- Expanded knowledge base covering more financial topics\n",
    "- Fine-tuning models specifically for financial advice\n",
    "- Adding visualization capabilities for financial projections\n",
    "- Implementing user authentication and data encryption\n",
    "\n",
    "### Final Thoughts\n",
    "\n",
    "FinGenius demonstrates how Gen AI capabilities can be combined to create a powerful, practical application that addresses a real-world need. By leveraging structured output, embeddings, RAG, function calling, and agent workflows, we've created a system that can help users understand their finances, set goals, and make better financial decisions.\n",
    "\n",
    "As Gen AI technology continues to advance, applications like FinGenius will become increasingly sophisticated and valuable, potentially democratizing access to high-quality financial advice and improving financial outcomes for millions of people."
   ]
  },
  {
   "cell_type": "code",
   "execution_count": null,
   "id": "2068d0b0",
   "metadata": {
    "id": "kPmG1ZON-rWR",
    "papermill": {
     "duration": 0.014662,
     "end_time": "2025-04-18T21:05:48.511606",
     "exception": false,
     "start_time": "2025-04-18T21:05:48.496944",
     "status": "completed"
    },
    "tags": []
   },
   "outputs": [],
   "source": []
  }
 ],
 "metadata": {
  "colab": {
   "provenance": []
  },
  "kaggle": {
   "accelerator": "none",
   "dataSources": [],
   "dockerImageVersionId": 31012,
   "isGpuEnabled": false,
   "isInternetEnabled": true,
   "language": "python",
   "sourceType": "notebook"
  },
  "kernelspec": {
   "display_name": "Python 3",
   "language": "python",
   "name": "python3"
  },
  "language_info": {
   "codemirror_mode": {
    "name": "ipython",
    "version": 3
   },
   "file_extension": ".py",
   "mimetype": "text/x-python",
   "name": "python",
   "nbconvert_exporter": "python",
   "pygments_lexer": "ipython3",
   "version": "3.11.11"
  },
  "papermill": {
   "default_parameters": {},
   "duration": 123.150593,
   "end_time": "2025-04-18T21:05:51.285770",
   "environment_variables": {},
   "exception": null,
   "input_path": "__notebook__.ipynb",
   "output_path": "__notebook__.ipynb",
   "parameters": {},
   "start_time": "2025-04-18T21:03:48.135177",
   "version": "2.6.0"
  }
 },
 "nbformat": 4,
 "nbformat_minor": 5
}
